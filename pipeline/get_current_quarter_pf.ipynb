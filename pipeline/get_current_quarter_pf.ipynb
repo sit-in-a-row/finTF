{
 "cells": [
  {
   "cell_type": "code",
   "execution_count": 14,
   "metadata": {},
   "outputs": [],
   "source": [
    "# - n은 하이퍼파라미터\n",
    "# 투자자의 성향(위험 회피 정도, 관리 가능성, 투자 자본 규모 등)에 따라 미리 결정합니다.\n",
    "# 예: 위험을 줄이고 싶다면 n을 30 이상, 공격적 투자라면 10~20으로 설정.\n",
    "\n",
    "# - Carhart 4 Factor 모델을 통해 종목 선정\n",
    "# Carhart 모델의 결과를 활용하여 종목을 필터링합니다.\n",
    "# R-squared, 요인 계수의 유의성, α 값, 요인별 선호(예: 모멘텀, 소형주, 가치주) 등을 기준으로 종목을 선정.\n",
    "# 상위 n개의 종목을 선택.\n",
    "\n",
    "# - 마코위츠 포트폴리오 이론을 통해 종목별 비중 계산\n",
    "# 선정된 n개의 종목의 기대수익률(α)과 공분산 행렬을 기반으로 효율적 프론티어를 계산.\n",
    "# 마코위츠 이론의 최적화 알고리즘을 적용해 각 종목의 투자 비중을 결정."
   ]
  },
  {
   "cell_type": "code",
   "execution_count": 1,
   "metadata": {},
   "outputs": [],
   "source": [
    "from sub_func import get_current_quarter_pf"
   ]
  },
  {
   "cell_type": "code",
   "execution_count": 2,
   "metadata": {},
   "outputs": [
    {
     "name": "stdout",
     "output_type": "stream",
     "text": [
      "model.summary()를 dict로 변환하는 과정에서 오류 발생(R_m_minus_R_f_num): list index out of range\n"
     ]
    }
   ],
   "source": [
    "portfolio = get_current_quarter_pf('2020', 'Q4', 10)"
   ]
  },
  {
   "cell_type": "code",
   "execution_count": 4,
   "metadata": {},
   "outputs": [
    {
     "data": {
      "text/html": [
       "<div>\n",
       "<style scoped>\n",
       "    .dataframe tbody tr th:only-of-type {\n",
       "        vertical-align: middle;\n",
       "    }\n",
       "\n",
       "    .dataframe tbody tr th {\n",
       "        vertical-align: top;\n",
       "    }\n",
       "\n",
       "    .dataframe thead th {\n",
       "        text-align: right;\n",
       "    }\n",
       "</style>\n",
       "<table border=\"1\" class=\"dataframe\">\n",
       "  <thead>\n",
       "    <tr style=\"text-align: right;\">\n",
       "      <th></th>\n",
       "      <th>Ticker</th>\n",
       "      <th>Weight</th>\n",
       "    </tr>\n",
       "  </thead>\n",
       "  <tbody>\n",
       "    <tr>\n",
       "      <th>0</th>\n",
       "      <td>010140</td>\n",
       "      <td>0.114249</td>\n",
       "    </tr>\n",
       "    <tr>\n",
       "      <th>1</th>\n",
       "      <td>119650</td>\n",
       "      <td>0.147564</td>\n",
       "    </tr>\n",
       "    <tr>\n",
       "      <th>2</th>\n",
       "      <td>042660</td>\n",
       "      <td>0.050000</td>\n",
       "    </tr>\n",
       "    <tr>\n",
       "      <th>3</th>\n",
       "      <td>006805</td>\n",
       "      <td>0.200000</td>\n",
       "    </tr>\n",
       "    <tr>\n",
       "      <th>4</th>\n",
       "      <td>001250</td>\n",
       "      <td>0.080744</td>\n",
       "    </tr>\n",
       "    <tr>\n",
       "      <th>5</th>\n",
       "      <td>001430</td>\n",
       "      <td>0.050000</td>\n",
       "    </tr>\n",
       "    <tr>\n",
       "      <th>6</th>\n",
       "      <td>027410</td>\n",
       "      <td>0.129932</td>\n",
       "    </tr>\n",
       "    <tr>\n",
       "      <th>7</th>\n",
       "      <td>005930</td>\n",
       "      <td>0.050000</td>\n",
       "    </tr>\n",
       "    <tr>\n",
       "      <th>8</th>\n",
       "      <td>002380</td>\n",
       "      <td>0.050000</td>\n",
       "    </tr>\n",
       "    <tr>\n",
       "      <th>9</th>\n",
       "      <td>008420</td>\n",
       "      <td>0.127511</td>\n",
       "    </tr>\n",
       "  </tbody>\n",
       "</table>\n",
       "</div>"
      ],
      "text/plain": [
       "   Ticker    Weight\n",
       "0  010140  0.114249\n",
       "1  119650  0.147564\n",
       "2  042660  0.050000\n",
       "3  006805  0.200000\n",
       "4  001250  0.080744\n",
       "5  001430  0.050000\n",
       "6  027410  0.129932\n",
       "7  005930  0.050000\n",
       "8  002380  0.050000\n",
       "9  008420  0.127511"
      ]
     },
     "execution_count": 4,
     "metadata": {},
     "output_type": "execute_result"
    }
   ],
   "source": [
    "portfolio"
   ]
  },
  {
   "cell_type": "code",
   "execution_count": null,
   "metadata": {},
   "outputs": [],
   "source": []
  }
 ],
 "metadata": {
  "kernelspec": {
   "display_name": "finTF",
   "language": "python",
   "name": "python3"
  },
  "language_info": {
   "codemirror_mode": {
    "name": "ipython",
    "version": 3
   },
   "file_extension": ".py",
   "mimetype": "text/x-python",
   "name": "python",
   "nbconvert_exporter": "python",
   "pygments_lexer": "ipython3",
   "version": "3.10.14"
  },
  "orig_nbformat": 4
 },
 "nbformat": 4,
 "nbformat_minor": 2
}
