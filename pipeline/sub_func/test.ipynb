{
 "cells": [
  {
   "cell_type": "code",
   "execution_count": 1,
   "metadata": {},
   "outputs": [],
   "source": [
    "import os\n",
    "import pandas as pd"
   ]
  },
  {
   "cell_type": "code",
   "execution_count": 35,
   "metadata": {},
   "outputs": [],
   "source": [
    "ticker = '005930'\n",
    "date = '20190501'\n",
    "\n",
    "path = '../../store_data/process/analysis/chart_pattern_analysis/'"
   ]
  },
  {
   "cell_type": "code",
   "execution_count": 38,
   "metadata": {},
   "outputs": [],
   "source": [
    "def chart_pattern_analysis(ticker:str, date:str) -> pd.DataFrame:\n",
    "    '''\n",
    "    ticker와 date를 입력하면, date를 기준으로 70일 이전까지의 일봉 데이터 기반 차트패턴 분석 반환\n",
    "    단, 입력된 날짜가 거래일이 아닌 경우 등 해당 일자가 없는 경우 가장 가까운 과거의 날짜로 반환\n",
    "\n",
    "    ex) chart_pattern_analysis('005930', '20190501')\n",
    "\n",
    "    \tstart_date\tend_date\tpattern\tprob\n",
    "    0\t2019-01-17\t2019-04-30\tascending_wedge\t0.987465\n",
    "    '''\n",
    "    year = date[:4]\n",
    "    month = date[4:6]\n",
    "    day = date[6:]\n",
    "    init_date = f'{year}.{month}.{day}'\n",
    "\n",
    "    csv_folder_path = os.path.join(path, ticker, year, month)\n",
    "\n",
    "    csv_list = os.listdir(csv_folder_path)\n",
    "\n",
    "    end_date_list = []\n",
    "    for csv in csv_list:\n",
    "        end_date = csv.split('_')[1]\n",
    "        end_date_list.append(end_date)\n",
    "\n",
    "    if init_date in end_date_list:\n",
    "        for csv in csv_list:\n",
    "            if csv.split('_')[1] == init_date:\n",
    "                csv_path = os.path.join(csv_folder_path, csv)\n",
    "                print(csv_path)\n",
    "                df = pd.read_csv(csv_path, index_col=0)\n",
    "                return df\n",
    "        \n",
    "    else:\n",
    "        flag = int(day)\n",
    "        new_date = int(day)\n",
    "\n",
    "        while True:\n",
    "            if flag != 0:\n",
    "                new_day = str(new_date - 1).zfill(2)\n",
    "                new_date_temp = f'{year}.{month}.{new_day}'\n",
    "\n",
    "                if new_date_temp in end_date_list:\n",
    "                    for csv in csv_list:\n",
    "                        if csv.split('_')[1] == new_date_temp:\n",
    "                            csv_path = os.path.join(csv_folder_path, csv)\n",
    "                            df = pd.read_csv(csv_path, index_col=0)\n",
    "                            return df\n",
    "                    break\n",
    "\n",
    "                else:\n",
    "                    flag = flag - 1\n",
    "                    new_date = new_date - 1\n",
    "\n",
    "            else:\n",
    "                if month == '12':\n",
    "                    csv_folder_path = os.path.join(path, ticker, str(int(year)-1), '12')\n",
    "                    csv_folder_list = sorted(os.listdir(csv_folder_path))\n",
    "                    print(csv_folder_list[-1])\n",
    "                    df = pd.read_csv(os.path.join(csv_folder_path, csv_folder_list[-1]), index_col=0)\n",
    "                    return df\n",
    "\n",
    "                else:\n",
    "                    csv_folder_path = os.path.join(path, ticker, year, str(int(month)-1).zfill(2))\n",
    "                    csv_folder_list = sorted(os.listdir(csv_folder_path))\n",
    "                    df = pd.read_csv(os.path.join(csv_folder_path, csv_folder_list[-1]), index_col=0)\n",
    "                    return df\n",
    "\n",
    "                break"
   ]
  },
  {
   "cell_type": "code",
   "execution_count": 39,
   "metadata": {},
   "outputs": [
    {
     "data": {
      "text/html": [
       "<div>\n",
       "<style scoped>\n",
       "    .dataframe tbody tr th:only-of-type {\n",
       "        vertical-align: middle;\n",
       "    }\n",
       "\n",
       "    .dataframe tbody tr th {\n",
       "        vertical-align: top;\n",
       "    }\n",
       "\n",
       "    .dataframe thead th {\n",
       "        text-align: right;\n",
       "    }\n",
       "</style>\n",
       "<table border=\"1\" class=\"dataframe\">\n",
       "  <thead>\n",
       "    <tr style=\"text-align: right;\">\n",
       "      <th></th>\n",
       "      <th>start_date</th>\n",
       "      <th>end_date</th>\n",
       "      <th>pattern</th>\n",
       "      <th>prob</th>\n",
       "    </tr>\n",
       "  </thead>\n",
       "  <tbody>\n",
       "    <tr>\n",
       "      <th>0</th>\n",
       "      <td>2019-01-17</td>\n",
       "      <td>2019-04-30</td>\n",
       "      <td>ascending_wedge</td>\n",
       "      <td>0.987465</td>\n",
       "    </tr>\n",
       "  </tbody>\n",
       "</table>\n",
       "</div>"
      ],
      "text/plain": [
       "   start_date    end_date          pattern      prob\n",
       "0  2019-01-17  2019-04-30  ascending_wedge  0.987465"
      ]
     },
     "execution_count": 39,
     "metadata": {},
     "output_type": "execute_result"
    }
   ],
   "source": [
    "chart_pattern_analysis(ticker, date)"
   ]
  },
  {
   "cell_type": "code",
   "execution_count": null,
   "metadata": {},
   "outputs": [],
   "source": []
  }
 ],
 "metadata": {
  "kernelspec": {
   "display_name": "finTF",
   "language": "python",
   "name": "python3"
  },
  "language_info": {
   "codemirror_mode": {
    "name": "ipython",
    "version": 3
   },
   "file_extension": ".py",
   "mimetype": "text/x-python",
   "name": "python",
   "nbconvert_exporter": "python",
   "pygments_lexer": "ipython3",
   "version": "3.10.14"
  },
  "orig_nbformat": 4
 },
 "nbformat": 4,
 "nbformat_minor": 2
}
