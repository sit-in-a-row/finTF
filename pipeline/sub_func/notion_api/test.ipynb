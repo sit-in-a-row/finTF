{
 "cells": [
  {
   "cell_type": "code",
   "execution_count": 1,
   "metadata": {},
   "outputs": [],
   "source": [
    "from notion_utils import *"
   ]
  },
  {
   "cell_type": "code",
   "execution_count": null,
   "metadata": {},
   "outputs": [],
   "source": [
    "def to_DB(database_id, title, period, paragraph):\n",
    "    \"\"\"\n",
    "    Notion DB에 페이지 만들고 본문 내용 추가하는 함수.\n",
    "\n",
    "    database_id: 페이지를 추가할 DB의 id\n",
    "    title: DB 내에 추가될 페이지의 제목\n",
    "    period: 해당 페이지의 내용이 해당되는 시기\n",
    "    paragraph: 페이지 내에 들어갈 본문\n",
    "    \"\"\"\n",
    "    try:\n",
    "        # 1. 데이터베이스에 페이지 생성\n",
    "        new_page = create_page_in_database(\n",
    "            database_id=database_id,\n",
    "            title=title,\n",
    "            period=period\n",
    "        )\n",
    "        print(f\"페이지 생성 완료: {new_page['id']}\")\n",
    "\n",
    "        # 2. 페이지 안에 텍스트 블럭 추가\n",
    "        page_id = new_page[\"id\"]\n",
    "        add_text_response = add_text_to_page(page_id, paragraph)\n",
    "        print(\"텍스트 블럭 추가 완료\")\n",
    "    except Exception as e:\n",
    "        print(f\"오류 발생: {e}\")    "
   ]
  },
  {
   "cell_type": "code",
   "execution_count": 9,
   "metadata": {},
   "outputs": [],
   "source": [
    "import json\n",
    "\n",
    "# JSON 파일 경로\n",
    "json_file_path = \"../../notion_page_ids.json\"\n",
    "\n",
    "# JSON 파일 열기 및 읽기\n",
    "def read_json(file_path):\n",
    "    try:\n",
    "        with open(file_path, \"r\", encoding=\"utf-8\") as file:\n",
    "            data = json.load(file)\n",
    "        return data\n",
    "    except FileNotFoundError:\n",
    "        # 파일이 없으면 빈 딕셔너리를 반환\n",
    "        return {}\n",
    "\n",
    "# JSON 파일 수정\n",
    "def write_json(file_path, new_data):\n",
    "    with open(file_path, \"w\", encoding=\"utf-8\") as file:\n",
    "        json.dump(new_data, file, ensure_ascii=False, indent=4)\n"
   ]
  },
  {
   "cell_type": "code",
   "execution_count": 13,
   "metadata": {},
   "outputs": [],
   "source": [
    "agent_type = 'pf_selection_agent'\n",
    "title = 'asdf_report_id'\n",
    "id = 'asdfasdfasdfasdf'\n",
    "\n",
    "def add_id_to_json(agent_type, title, id):\n",
    "    \"\"\"\n",
    "    api를 통해 생성한 보고서 등의 page_id를 json에 저장\n",
    "\n",
    "    agent_type: 'pf_selection_agent', 't_1', 't_2', ... 't_5' 중 하나\n",
    "    title: 생성한 페이지의 제목\n",
    "    id: 생성한 페이지의 id\n",
    "    \"\"\"\n",
    "    data = read_json(json_file_path)\n",
    "    data[agent_type][title] = id\n",
    "    write_json(json_file_path, data)"
   ]
  },
  {
   "cell_type": "code",
   "execution_count": null,
   "metadata": {},
   "outputs": [],
   "source": []
  },
  {
   "cell_type": "code",
   "execution_count": null,
   "metadata": {},
   "outputs": [],
   "source": []
  },
  {
   "cell_type": "code",
   "execution_count": null,
   "metadata": {},
   "outputs": [],
   "source": []
  }
 ],
 "metadata": {
  "kernelspec": {
   "display_name": "finTF",
   "language": "python",
   "name": "python3"
  },
  "language_info": {
   "codemirror_mode": {
    "name": "ipython",
    "version": 3
   },
   "file_extension": ".py",
   "mimetype": "text/x-python",
   "name": "python",
   "nbconvert_exporter": "python",
   "pygments_lexer": "ipython3",
   "version": "3.10.14"
  }
 },
 "nbformat": 4,
 "nbformat_minor": 2
}
