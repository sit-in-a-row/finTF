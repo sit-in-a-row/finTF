{
 "cells": [
  {
   "cell_type": "code",
   "execution_count": 18,
   "metadata": {},
   "outputs": [],
   "source": [
    "from sub_func import *\n",
    "import os\n",
    "import pandas as pd"
   ]
  },
  {
   "cell_type": "code",
   "execution_count": 24,
   "metadata": {},
   "outputs": [],
   "source": [
    "target_year = '2020'\n",
    "target_quarter = 'Q1'\n",
    "news_parent_path = '../store_data/raw/crawling/corp_rel_news'\n",
    "\n",
    "if target_quarter == 'Q1':\n",
    "    target_month = '01'\n",
    "elif target_quarter == 'Q2':\n",
    "    target_month = '04'\n",
    "elif target_quarter == 'Q3':\n",
    "    target_month = '07'\n",
    "elif target_quarter == 'Q4':\n",
    "    target_month = '10'\n",
    "\n",
    "tickers_list = [t for t in os.listdir(news_parent_path) if t != '.DS_Store']"
   ]
  },
  {
   "cell_type": "code",
   "execution_count": 32,
   "metadata": {},
   "outputs": [],
   "source": [
    "title_count_dict = {}\n",
    "\n",
    "for target_ticker in tickers_list:\n",
    "    try:\n",
    "        search_path = os.path.join(news_parent_path, target_ticker, target_year, target_month)\n",
    "        csv_name = os.listdir(search_path)[0]\n",
    "\n",
    "        csv_path = os.path.join(search_path, csv_name)\n",
    "        title_count = len(pd.read_csv(csv_path))\n",
    "        title_count_dict[target_ticker] = title_count\n",
    "    except Exception as e:\n",
    "        title_count_dict[target_ticker] = 0"
   ]
  },
  {
   "cell_type": "code",
   "execution_count": null,
   "metadata": {},
   "outputs": [],
   "source": []
  }
 ],
 "metadata": {
  "kernelspec": {
   "display_name": "finTF",
   "language": "python",
   "name": "python3"
  },
  "language_info": {
   "codemirror_mode": {
    "name": "ipython",
    "version": 3
   },
   "file_extension": ".py",
   "mimetype": "text/x-python",
   "name": "python",
   "nbconvert_exporter": "python",
   "pygments_lexer": "ipython3",
   "version": "3.10.14"
  }
 },
 "nbformat": 4,
 "nbformat_minor": 2
}
