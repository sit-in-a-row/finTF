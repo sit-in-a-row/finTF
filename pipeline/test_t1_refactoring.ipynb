{
 "cells": [
  {
   "cell_type": "code",
   "execution_count": 1,
   "metadata": {},
   "outputs": [
    {
     "name": "stderr",
     "output_type": "stream",
     "text": [
      "/opt/anaconda3/envs/finTF/lib/python3.10/site-packages/transformers/tokenization_utils_base.py:1601: FutureWarning: `clean_up_tokenization_spaces` was not set. It will be set to `True` by default. This behavior will be depracted in transformers v4.45, and will be then set to `False` by default. For more details check this issue: https://github.com/huggingface/transformers/issues/31884\n",
      "  warnings.warn(\n"
     ]
    }
   ],
   "source": [
    "from sub_func import *"
   ]
  },
  {
   "cell_type": "code",
   "execution_count": 2,
   "metadata": {},
   "outputs": [
    {
     "name": "stderr",
     "output_type": "stream",
     "text": [
      "/opt/anaconda3/envs/finTF/lib/python3.10/site-packages/scipy/optimize/_slsqp_py.py:434: RuntimeWarning: Values in x were outside bounds during a minimize step, clipping to bounds\n",
      "  fx = wrapped_fun(x)\n"
     ]
    }
   ],
   "source": [
    "### 메타 정보 생성\n",
    "\n",
    "# 투자가 진행될 시점\n",
    "curr_year = '2022'\n",
    "curr_quarter = 'Q1'\n",
    "\n",
    "# 종가 추출(start_date, end_date) 및 기타 재무 정보 확보(target_year, target_quarter)를 위한 날짜\n",
    "if curr_quarter == 'Q1':\n",
    "    start_date = f\"{int(curr_year)-1}1001\"\n",
    "    end_date = f\"{int(curr_year)-1}1231\"\n",
    "    target_year = f\"{int(curr_year)-1}\"\n",
    "    target_quarter = \"Q4\"\n",
    "elif curr_quarter == 'Q2':\n",
    "    start_date = f\"{curr_year}0101\"\n",
    "    end_date = f\"{curr_year}0331\"\n",
    "    target_year = curr_year\n",
    "    quarter_num = curr_quarter[-1]\n",
    "    target_quarter = f\"Q{int(quarter_num)-1}\"\n",
    "elif curr_quarter == 'Q3':\n",
    "    start_date = f\"{curr_year}0401\"\n",
    "    end_date = f\"{curr_year}0630\"\n",
    "    target_year = curr_year\n",
    "    quarter_num = curr_quarter[-1]\n",
    "    target_quarter = f\"Q{int(quarter_num)-1}\"\n",
    "elif curr_quarter == 'Q4':\n",
    "    start_date = f\"{curr_year}0701\"\n",
    "    end_date = f\"{curr_year}0930\"\n",
    "    target_year = curr_year\n",
    "    quarter_num = curr_quarter[-1]\n",
    "    target_quarter = f\"Q{int(quarter_num)-1}\"\n",
    "\n",
    "# 포트폴리오 내 종목 개수\n",
    "n = 10\n",
    "\n",
    "# 초기 투자 자본 (₩1,000,000)\n",
    "init_balance = 1000000\n",
    "\n",
    "# 포트폴리오 종목 불러오기\n",
    "portfolio = get_current_quarter_pf(curr_year, curr_quarter, n)\n",
    "\n",
    "# 각 포트폴리오의 가격 비중 산정\n",
    "portfolio['max_price_allowed'] = round(portfolio['Weight']*init_balance)\n",
    "\n",
    "# 각 포트폴리오 종목에 대해 최대 보유 개수 구하여 portfolio df에 추가\n",
    "n_stock_list = []\n",
    "for i in range(len(portfolio)):\n",
    "    ticker = portfolio['Ticker'].iloc[i]\n",
    "\n",
    "    # 가격 데이터 불러와서 종가만 남기고\n",
    "    price_df = stock_price_info(ticker, start_date, end_date)\n",
    "    close_price = price_df.iloc[-1]['Close']\n",
    "\n",
    "    max_price_allowed = portfolio['max_price_allowed'].iloc[i]\n",
    "    n_stock_list.append(max_price_allowed // close_price)\n",
    "\n",
    "# 개수 구하기\n",
    "portfolio['n_stock'] = n_stock_list"
   ]
  },
  {
   "cell_type": "code",
   "execution_count": 3,
   "metadata": {},
   "outputs": [],
   "source": [
    "def t1_analyst_common(target_year, start_date, end_date):\n",
    "\n",
    "    # === 국제 뉴스 관련 정보 수집 === #\n",
    "    intl_news_df = intl_news_info(target_year, start_date, end_date)\n",
    "\n",
    "    SA_result_intl_news_dict = {\n",
    "        'positive': [],\n",
    "        'negative': []\n",
    "    }\n",
    "\n",
    "    for i in range(len(intl_news_df)):\n",
    "        news_title = intl_news_df.iloc[i]['news_title']\n",
    "        SA_result = get_SA_result(news_title)\n",
    "\n",
    "        if SA_result['label'] == 'positive' and SA_result['prob'] > 0.9:\n",
    "            SA_result_intl_news_dict['positive'].append(news_title)\n",
    "        elif SA_result['label'] == 'negative' and SA_result['prob'] > 0.9:\n",
    "            SA_result_intl_news_dict['negative'].append(news_title)\n",
    "\n",
    "    print('='*50)\n",
    "    print('intl_news 정보 취합 완료!')\n",
    "\n",
    "    # === 거시 경제 관련 정보 수집 === #\n",
    "    def create_macro_econ_dict(country, econ_item):\n",
    "        result_dict = macro_econ_dict[country][econ_item].set_index('Date').to_dict('index')\n",
    "        final_dict = {k: v[list(v.keys())[0]] for k, v in result_dict.items()}\n",
    "\n",
    "        return final_dict\n",
    "    \n",
    "    macro_econ_dict = macro_econ_info(target_year, start_date, end_date)\n",
    "    country_list = list(macro_econ_dict.keys())\n",
    "\n",
    "    reports_dict = {}\n",
    "\n",
    "    for country in country_list:\n",
    "\n",
    "        # ======================================================================================== #\n",
    "        system_macro_econ = f\"\"\"당신은 증권회사에 고용된 국제관계 전문가입니다.\n",
    "        주식투자의 관점에서 주어진 {country} 국가에 대한 경제지표를 분석하고, 이에 대한 의견을 알려주세요.\n",
    "        의견을 개진할 때에는 반드시에 경제지표에 대한 분석에 기반한 근거를 제시해야 합니다.\n",
    "        ** {country}에 투자하는 것이 아닌, 한국 주식 투자에 대한 분석을 진행해야 합니다. **\n",
    "        ** 해당 국가의 경제 동향이 어떠한 영향을 줄지 분석하세요. **\n",
    "\n",
    "        응답은 반드시 markdown 문법에 따라 다음 구조로 작성되어야 합니다.\n",
    "\n",
    "        1. {country} 경제에 대한 분석\n",
    "        2. 투자의견\n",
    "        \"\"\"\n",
    "\n",
    "        prompt_macro_econ = f\"\"\"\"\"\"\n",
    "        # ======================================================================================== #\n",
    "\n",
    "        target_country_dict = macro_econ_dict[country]\n",
    "        econ_items = list(target_country_dict.keys())\n",
    "\n",
    "        for econ_item in econ_items:\n",
    "            final_dict = create_macro_econ_dict(country, econ_item)\n",
    "            prompt_macro_econ += f\"{econ_item}: {final_dict}\\n\"\n",
    "\n",
    "        macro_econ_response = to_GPT(system_macro_econ, prompt_macro_econ)['choices'][0]['message']['content']\n",
    "        reports_dict[country] = macro_econ_response\n",
    "        print('-'*50)\n",
    "        print(f'{country}에 대한 보고서 생성 완료!')\n",
    "\n",
    "    return {\n",
    "        'SA_result_intl_news_dict': SA_result_intl_news_dict,\n",
    "        'reports_dict': reports_dict\n",
    "    }"
   ]
  },
  {
   "cell_type": "code",
   "execution_count": 4,
   "metadata": {},
   "outputs": [],
   "source": [
    "def t1_analyst_corp(ticker, target_year, start_date, end_date):\n",
    "\n",
    "    fin_statement = None\n",
    "    fin_report = None\n",
    "    SA_result_corp_rel_news_dict = None\n",
    "\n",
    "    failed_item = []\n",
    "\n",
    "    # === 재무제표 관련 정보 취합 === #\n",
    "    try:\n",
    "        fin_statement = fin_statement_info(ticker, target_year, target_quarter)\n",
    "    except Exception as e:\n",
    "        failed_item.append('재무제표')\n",
    "\n",
    "    # === 재무보고서 분석 취합 === #\n",
    "    system_fin_report = \"\"\"당신은 증권회사에 고용된 재무전문가입니다. \n",
    "    주식투자의 관점에서 본 재무보고서를 요약하고, 이에 대한 의견을 알려주세요. \n",
    "    의견을 개진할 때에는 반드시 보고서에서 근거를 제시해야 합니다.\n",
    "\n",
    "    응답은 반드시 markdown 문법에 따라 다음 구조로 작성되어야 합니다.\n",
    "\n",
    "    1. 재무보고서 요약\n",
    "    2. 투자의견\n",
    "    \"\"\"\n",
    "\n",
    "    try:\n",
    "        fin_report = reports_info(ticker, target_year, target_quarter)\n",
    "        fin_report_text = fin_report['1. 요약재무정보.csv'][0][4:-4]\n",
    "\n",
    "        prompt_fin_report = f\"{fin_report_text}\"\n",
    "        result = to_GPT(system_fin_report, prompt_fin_report)\n",
    "        fin_report = result['choices'][0]['message']['content']\n",
    "    except Exception as e:\n",
    "        failed_item.append('재무보고서')\n",
    "\n",
    "    # === 기업 관련 뉴스 취합 === #\n",
    "    try: \n",
    "        corp_rel_news_df = corp_rel_news_info(ticker, target_year, start_date, end_date)\n",
    "        corp_rel_news_df = corp_rel_news_df[corp_rel_news_df['news_category'].str.contains('증권')]\n",
    "\n",
    "        # 활용할 최종 정보!\n",
    "        SA_result_corp_rel_news_dict = {\n",
    "            'positive': [],\n",
    "            'negative': []\n",
    "        }\n",
    "\n",
    "        for i in range(len(corp_rel_news_df)):\n",
    "            news_title = corp_rel_news_df.iloc[i]['news_title']\n",
    "            SA_result = get_SA_result(news_title)\n",
    "\n",
    "            if SA_result['label'] == 'positive' and SA_result['prob'] > 0.9:\n",
    "                SA_result_corp_rel_news_dict['positive'].append(news_title)\n",
    "            elif SA_result['label'] == 'negative' and SA_result['prob'] > 0.9:\n",
    "                SA_result_corp_rel_news_dict['negative'].append(news_title)\n",
    "\n",
    "    except Exception as e:\n",
    "        failed_item.append('기업 관련 뉴스')\n",
    "\n",
    "    final_return_dict = {}\n",
    "    if fin_statement is not None and not fin_statement.empty:\n",
    "        final_return_dict['fin_statement'] = fin_statement\n",
    "    if fin_report:\n",
    "        final_return_dict['fin_report'] = fin_report\n",
    "    if SA_result_corp_rel_news_dict:\n",
    "        final_return_dict['SA_result_corp_rel_news_dict'] = SA_result_corp_rel_news_dict\n",
    "\n",
    "    if len(failed_item) > 0:\n",
    "        print(f\"{ticker}에 대해 {failed_item} 항목들의 정보 확인에 실패했습니다.\")\n",
    "        \n",
    "    return final_return_dict"
   ]
  },
  {
   "cell_type": "code",
   "execution_count": 5,
   "metadata": {},
   "outputs": [
    {
     "name": "stdout",
     "output_type": "stream",
     "text": [
      "==================================================\n",
      "intl_news 정보 취합 완료!\n",
      "UK에 대해 Inflation Rate 정보를 찾을 수 없습니다. | [Errno 2] No such file or directory: '/Users/yeonsuk/investment/finTF/pipeline/sub_func/get_info/../../../store_data/raw/FRED/UK/Inflation Rate/2021/2021_Inflation Rate.csv'\n",
      "--------------------------------------------------\n",
      "US에 대한 보고서 생성 완료!\n",
      "--------------------------------------------------\n",
      "CN에 대한 보고서 생성 완료!\n",
      "--------------------------------------------------\n",
      "UK에 대한 보고서 생성 완료!\n",
      "--------------------------------------------------\n",
      "JP에 대한 보고서 생성 완료!\n",
      "--------------------------------------------------\n",
      "EU에 대한 보고서 생성 완료!\n"
     ]
    }
   ],
   "source": [
    "t1_analyst_common_result = t1_analyst_common(target_year, start_date, end_date)"
   ]
  },
  {
   "cell_type": "code",
   "execution_count": 6,
   "metadata": {},
   "outputs": [
    {
     "name": "stdout",
     "output_type": "stream",
     "text": [
      "재무제표를 불러오는 과정에서 오류가 발생했습니다 | [Errno 2] No such file or directory: '/Users/yeonsuk/investment/finTF/pipeline/sub_func/get_info/../../../store_data/raw/opendart/store_financial_statement/039490/_039490_재무제표 ().csv'\n",
      "재무제표를 불러오는 과정에서 오류가 발생했습니다 | [Errno 2] No such file or directory: '/Users/yeonsuk/investment/finTF/pipeline/sub_func/get_info/../../../store_data/raw/opendart/store_financial_statement/039490/_039490_재무제표 ().csv'\n",
      "039490의 이전 년도 재무 데이터를 불러올 수 없습니다.\n",
      "039490의 fin_statement_info 정보를 확인할 수 없습니다.\n",
      "재무제표를 불러오는 과정에서 오류가 발생했습니다 | [Errno 2] No such file or directory: '/Users/yeonsuk/investment/finTF/pipeline/sub_func/get_info/../../../store_data/raw/opendart/store_financial_statement/123700/_123700_재무제표 ().csv'\n",
      "123700에 대해 ['재무제표'] 항목들의 정보 확인에 실패했습니다.\n",
      "재무제표를 불러오는 과정에서 오류가 발생했습니다 | [Errno 2] No such file or directory: '/Users/yeonsuk/investment/finTF/pipeline/sub_func/get_info/../../../store_data/raw/opendart/store_financial_statement/008260'\n",
      "재무제표를 불러오는 과정에서 오류가 발생했습니다 | [Errno 2] No such file or directory: '/Users/yeonsuk/investment/finTF/pipeline/sub_func/get_info/../../../store_data/raw/opendart/store_financial_statement/008260'\n",
      "008260의 이전 년도 재무 데이터를 불러올 수 없습니다.\n",
      "008260의 fin_statement_info 정보를 확인할 수 없습니다.\n",
      "재무제표를 불러오는 과정에서 오류가 발생했습니다 | [Errno 2] No such file or directory: '/Users/yeonsuk/investment/finTF/pipeline/sub_func/get_info/../../../store_data/raw/opendart/store_financial_statement/003000/_003000_재무제표 ().csv'\n",
      "003000에 대해 ['재무제표'] 항목들의 정보 확인에 실패했습니다.\n"
     ]
    }
   ],
   "source": [
    "pf_tickers = list(portfolio['Ticker'])\n",
    "corp_anal_dict = {}\n",
    "for ticker in pf_tickers:\n",
    "    t1_analyst_corp_result = t1_analyst_corp(ticker, target_year, start_date, end_date)\n",
    "    corp_anal_dict[ticker] = t1_analyst_corp_result"
   ]
  },
  {
   "cell_type": "code",
   "execution_count": 8,
   "metadata": {},
   "outputs": [],
   "source": [
    "system_t1_analyst = \"\"\"당신은 애널리스트 팀의 리더입니다.\n",
    "팀원들이 보고서와 함께 주요 정보에 대한 자료를 제공했습니다.\n",
    "보고받은 자료에 기반해 포트폴리오를 어떻게 조정해야 할지, 오늘의 투자전략에 대한 전반적인 제안서를 작성하세요.\n",
    "\"\"\"\n",
    "\n",
    "prompt_t1_analyst = f\"\"\"애널리스트 보고서: {corp_anal_dict}\n",
    "\n",
    "현재 포트폴리오: {portfolio}\n",
    "\"\"\""
   ]
  },
  {
   "cell_type": "code",
   "execution_count": 9,
   "metadata": {},
   "outputs": [],
   "source": [
    "t1_analyst_response = to_GPT(system_t1_analyst, prompt_t1_analyst)"
   ]
  },
  {
   "cell_type": "code",
   "execution_count": 10,
   "metadata": {},
   "outputs": [
    {
     "data": {
      "text/plain": [
       "['## 투자 전략 제안서',\n",
       " '',\n",
       " '### 포트폴리오 조정 방향',\n",
       " '',\n",
       " '현재 포트폴리오 분석 결과, 각 종목의 재무상태와 시장 반응을 종합적으로 고려하여 다음과 같은 조정을 제안합니다.',\n",
       " '',\n",
       " '### 종목별 평가 및 조정',\n",
       " '',\n",
       " '1. **008970 (동양철관)**  ',\n",
       " '   - **재무 상태**: 손실 지속, 높은 부채비율, 유동부채 급증으로 단기 리스크 증가.',\n",
       " '   - **투자 의견**: 보유중인 비중을 줄이거나 매도 고려. 위험 관리 차원에서 최소화 필요.',\n",
       " '',\n",
       " '2. **039490 (키움증권)**  ',\n",
       " '   - **재무 상태**: 영업수익과 순이익 증가, 긍정적인 성장세.',\n",
       " '   - **투자 의견**: 매수 추천. 포트폴리오 내 비중 확대 고려.',\n",
       " '',\n",
       " '3. **021050 (서원)**  ',\n",
       " '   - **재무 상태**: 영업이익 증가, 안정적인 자본 구조.',\n",
       " '   - **투자 의견**: 유지. 성장 가능성 감안하여 비중 확대 고려.',\n",
       " '',\n",
       " '4. **058850 (KTcs)**  ',\n",
       " '   - **재무 상태**: 영업수익 및 당기순이익 증가, 긍정적인 경영 성과.',\n",
       " '   - **투자 의견**: 매수 추천. 비중 확대 가능.',\n",
       " '',\n",
       " '5. **129260 (인터지스)**  ',\n",
       " '   - **재무 상태**: 매출 증가, 당기순이익 흑자 전환.',\n",
       " '   - **투자 의견**: 매수 추천. 포트폴리오 내 비중 확대.',\n",
       " '',\n",
       " '6. **123700 (SJM)**  ',\n",
       " '   - **재무 상태**: 자산 및 자본 증가, 영업이익 개선.',\n",
       " '   - **투자 의견**: 보유 추천. 안정성 감안하여 유지.',\n",
       " '',\n",
       " '7. **017040 (광명전기)**  ',\n",
       " '   - **재무 상태**: 자본 증가, 안정적인 성장 추세.',\n",
       " '   - **투자 의견**: 매수 추천. 비중 확대 고려.',\n",
       " '',\n",
       " '8. **009180 (한솔로지스틱스)**  ',\n",
       " '   - **재무 상태**: 매출 및 영업이익 증가.',\n",
       " '   - **투자 의견**: 보유 추천. 안정적인 성장세 유지.',\n",
       " '',\n",
       " '9. **008260 (NI스틸)**  ',\n",
       " '   - **재무 상태**: 긍정적인 성장성과 건전한 재무구조.',\n",
       " '   - **투자 의견**: 매수 추천. 포트폴리오 내 비중 확대.',\n",
       " '',\n",
       " '10. **003000 (부광약품)**  ',\n",
       " '    - **재무 상태**: 부채 감소, 그러나 손실 지속.',\n",
       " '    - **투자 의견**: 손실 리스크 관리 차원에서 비중 축소 또는 매도 고려.',\n",
       " '',\n",
       " '### 결론',\n",
       " '',\n",
       " '현재 포트폴리오에서 손실 리스크가 큰 종목은 축소하고, 성장성이 긍정적인 종목에 대한 비중을 확대하는 것이 바람직합니다. 이에 따라, 008970과 003000의 비중을 줄이고, 키움증권, KTcs, 인터지스 및 NI스틸의 비중을 늘리는 방향으로 조정할 것을 추천합니다. ',\n",
       " '',\n",
       " '이를 통해 포트폴리오의 안정성과 수익성을 동시에 증대시키는 전략이 될 것입니다. 투자 결정을 내리기 전에 시장 변화와 관련 뉴스에 대한 지속적인 모니터링이 필요합니다.']"
      ]
     },
     "execution_count": 10,
     "metadata": {},
     "output_type": "execute_result"
    }
   ],
   "source": [
    "t1_analyst_response['choices'][0]['message']['content'].split('\\n')"
   ]
  },
  {
   "cell_type": "code",
   "execution_count": 19,
   "metadata": {},
   "outputs": [
    {
     "data": {
      "text/plain": [
       "918"
      ]
     },
     "execution_count": 19,
     "metadata": {},
     "output_type": "execute_result"
    }
   ],
   "source": [
    "len(os.listdir('../store_data/raw/market_data/price'))"
   ]
  },
  {
   "cell_type": "code",
   "execution_count": 20,
   "metadata": {},
   "outputs": [],
   "source": [
    "# 10개에 약 60,000토큰\n",
    "# 918개라면 55,080,000"
   ]
  },
  {
   "cell_type": "code",
   "execution_count": 21,
   "metadata": {},
   "outputs": [
    {
     "data": {
      "text/plain": [
       "55080000"
      ]
     },
     "execution_count": 21,
     "metadata": {},
     "output_type": "execute_result"
    }
   ],
   "source": [
    "60000 * 918"
   ]
  },
  {
   "cell_type": "code",
   "execution_count": null,
   "metadata": {},
   "outputs": [],
   "source": []
  }
 ],
 "metadata": {
  "kernelspec": {
   "display_name": "finTF",
   "language": "python",
   "name": "python3"
  },
  "language_info": {
   "codemirror_mode": {
    "name": "ipython",
    "version": 3
   },
   "file_extension": ".py",
   "mimetype": "text/x-python",
   "name": "python",
   "nbconvert_exporter": "python",
   "pygments_lexer": "ipython3",
   "version": "3.10.14"
  }
 },
 "nbformat": 4,
 "nbformat_minor": 2
}
