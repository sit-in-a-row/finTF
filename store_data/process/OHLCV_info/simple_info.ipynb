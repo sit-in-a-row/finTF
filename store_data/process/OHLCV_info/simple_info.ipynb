{
 "cells": [
  {
   "cell_type": "code",
   "execution_count": 12,
   "metadata": {},
   "outputs": [
    {
     "name": "stdout",
     "output_type": "stream",
     "text": [
      "Processed and saved: /home/proj/finTF/store_data/process/OHLCV_info/코스피 200 철강/소재/2023/소재.csv\n"
     ]
    }
   ],
   "source": [
    "import os\n",
    "import pandas as pd\n",
    "import pandas_ta as ta\n",
    "\n",
    "# 경로 설정\n",
    "raw_data_path = '/home/proj/finTF/store_data/raw/market_data/코스피 200 철강/소재/2023/2023_코스피 200 철강'\n",
    "processed_data_path = '/home/proj/finTF/store_data/process/OHLCV_info/코스피 200 철강/소재/2023'\n",
    "\n",
    "# MA, RSI, 볼린저 밴드 계산 함수\n",
    "def calculate_indicators(df):\n",
    "    # MA (이동평균)\n",
    "    df['MA_20'] = ta.sma(df['종가'], length=20)  # 20일 이동평균\n",
    "\n",
    "    # RSI (상대 강도 지수)\n",
    "    df['RSI_14'] = ta.rsi(df['종가'], length=14)  # 14일 RSI\n",
    "\n",
    "    # 볼린저 밴드\n",
    "    bbands = ta.bbands(df['종가'], length=20)\n",
    "    df = pd.concat([df, bbands], axis=1)  # 볼린저 밴드 컬럼 추가 (BBL: 하단, BBM: 중간, BBU: 상단)\n",
    "\n",
    "    return df\n",
    "\n",
    "# 폴더 순회 및 처리 함수\n",
    "def process_files():\n",
    "    # 각 연도 폴더 내 CSV 파일 처리\n",
    "    for filename in os.listdir(raw_data_path):\n",
    "        if filename.endswith('.csv'):\n",
    "            file_path = os.path.join(raw_data_path, filename)\n",
    "            df = pd.read_csv(file_path)\n",
    "\n",
    "            # 필요한 지표 계산\n",
    "            df_with_indicators = calculate_indicators(df)\n",
    "\n",
    "            # 처리된 파일 저장 경로\n",
    "            processed_file_path = os.path.join(processed_data_path, filename)\n",
    "\n",
    "            # 처리된 데이터 저장\n",
    "            df_with_indicators.to_csv(processed_file_path, index=False)\n",
    "            print(f\"Processed and saved: {processed_file_path}\")\n",
    "\n",
    "# 실행\n",
    "process_files()\n"
   ]
  }
 ],
 "metadata": {
  "kernelspec": {
   "display_name": "myenv",
   "language": "python",
   "name": "python3"
  },
  "language_info": {
   "codemirror_mode": {
    "name": "ipython",
    "version": 3
   },
   "file_extension": ".py",
   "mimetype": "text/x-python",
   "name": "python",
   "nbconvert_exporter": "python",
   "pygments_lexer": "ipython3",
   "version": "3.10.12"
  }
 },
 "nbformat": 4,
 "nbformat_minor": 2
}
