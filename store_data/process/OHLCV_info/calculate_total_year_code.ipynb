{
 "cells": [
  {
   "cell_type": "code",
   "execution_count": null,
   "metadata": {},
   "outputs": [],
   "source": [
    "# MA, RSI, 볼린저 밴드의 결측치를 최소화하기 위해 전체 년도 합치기"
   ]
  },
  {
   "cell_type": "code",
   "execution_count": 1,
   "metadata": {},
   "outputs": [
    {
     "name": "stdout",
     "output_type": "stream",
     "text": [
      "Processed and saved: /home/proj/finTF/store_data/process/OHLCV_info/calculate_total_year/코스피 200 중소형주.csv\n",
      "Processed and saved: /home/proj/finTF/store_data/process/OHLCV_info/calculate_total_year/증권.csv\n",
      "Processed and saved: /home/proj/finTF/store_data/process/OHLCV_info/calculate_total_year/금융업.csv\n",
      "Processed and saved: /home/proj/finTF/store_data/process/OHLCV_info/calculate_total_year/코스피200제외 코스피지수.csv\n",
      "Processed and saved: /home/proj/finTF/store_data/process/OHLCV_info/calculate_total_year/섬유의복.csv\n",
      "Processed and saved: /home/proj/finTF/store_data/process/OHLCV_info/calculate_total_year/운수장비.csv\n",
      "Processed and saved: /home/proj/finTF/store_data/process/OHLCV_info/calculate_total_year/코스피 200 에너지.csv\n",
      "Processed and saved: /home/proj/finTF/store_data/process/OHLCV_info/calculate_total_year/종이목재.csv\n",
      "Processed and saved: /home/proj/finTF/store_data/process/OHLCV_info/calculate_total_year/기계.csv\n",
      "Processed and saved: /home/proj/finTF/store_data/process/OHLCV_info/calculate_total_year/코스피 200.csv\n",
      "Processed and saved: /home/proj/finTF/store_data/process/OHLCV_info/calculate_total_year/코스피.csv\n",
      "Processed and saved: /home/proj/finTF/store_data/process/OHLCV_info/calculate_total_year/코스피 200 건설.csv\n",
      "Processed and saved: /home/proj/finTF/store_data/process/OHLCV_info/calculate_total_year/코스피 50.csv\n",
      "Processed and saved: /home/proj/finTF/store_data/process/OHLCV_info/calculate_total_year/코스피 200 비중상한 25%.csv\n",
      "Processed and saved: /home/proj/finTF/store_data/process/OHLCV_info/calculate_total_year/화학.csv\n",
      "Processed and saved: /home/proj/finTF/store_data/process/OHLCV_info/calculate_total_year/철강금속.csv\n",
      "Processed and saved: /home/proj/finTF/store_data/process/OHLCV_info/calculate_total_year/운수창고업.csv\n",
      "Processed and saved: /home/proj/finTF/store_data/process/OHLCV_info/calculate_total_year/코스피 200 초대형제외 지수.csv\n",
      "Processed and saved: /home/proj/finTF/store_data/process/OHLCV_info/calculate_total_year/코스피 200 생활소비재.csv\n",
      "Processed and saved: /home/proj/finTF/store_data/process/OHLCV_info/calculate_total_year/전기전자.csv\n",
      "Processed and saved: /home/proj/finTF/store_data/process/OHLCV_info/calculate_total_year/코스피 200 금융.csv\n",
      "Processed and saved: /home/proj/finTF/store_data/process/OHLCV_info/calculate_total_year/전기가스업.csv\n",
      "Processed and saved: /home/proj/finTF/store_data/process/OHLCV_info/calculate_total_year/코스피 100.csv\n",
      "Processed and saved: /home/proj/finTF/store_data/process/OHLCV_info/calculate_total_year/의약품.csv\n",
      "Processed and saved: /home/proj/finTF/store_data/process/OHLCV_info/calculate_total_year/코스피 200 중공업.csv\n",
      "Processed and saved: /home/proj/finTF/store_data/process/OHLCV_info/calculate_total_year/유통업.csv\n",
      "Processed and saved: /home/proj/finTF/store_data/process/OHLCV_info/calculate_total_year/코스피 소형주.csv\n",
      "Processed and saved: /home/proj/finTF/store_data/process/OHLCV_info/calculate_total_year/서비스업.csv\n",
      "Processed and saved: /home/proj/finTF/store_data/process/OHLCV_info/calculate_total_year/코스피 200 헬스케어.csv\n",
      "Processed and saved: /home/proj/finTF/store_data/process/OHLCV_info/calculate_total_year/코스피 200 경기소비재.csv\n",
      "Processed and saved: /home/proj/finTF/store_data/process/OHLCV_info/calculate_total_year/음식료품.csv\n",
      "Processed and saved: /home/proj/finTF/store_data/process/OHLCV_info/calculate_total_year/건설업.csv\n",
      "Processed and saved: /home/proj/finTF/store_data/process/OHLCV_info/calculate_total_year/코스피 200 비중상한 30%.csv\n",
      "Processed and saved: /home/proj/finTF/store_data/process/OHLCV_info/calculate_total_year/코스피 중형주.csv\n",
      "Processed and saved: /home/proj/finTF/store_data/process/OHLCV_info/calculate_total_year/코스피 200 비중상한 20%.csv\n",
      "Processed and saved: /home/proj/finTF/store_data/process/OHLCV_info/calculate_total_year/코스피 200 산업재.csv\n",
      "Processed and saved: /home/proj/finTF/store_data/process/OHLCV_info/calculate_total_year/보험.csv\n",
      "Processed and saved: /home/proj/finTF/store_data/process/OHLCV_info/calculate_total_year/코스피 대형주.csv\n",
      "Processed and saved: /home/proj/finTF/store_data/process/OHLCV_info/calculate_total_year/코스피 200 철강.csv\n",
      "Processed and saved: /home/proj/finTF/store_data/process/OHLCV_info/calculate_total_year/통신업.csv\n",
      "Processed and saved: /home/proj/finTF/store_data/process/OHLCV_info/calculate_total_year/제조업.csv\n",
      "Processed and saved: /home/proj/finTF/store_data/process/OHLCV_info/calculate_total_year/코스피 200 커뮤니케이션서비스.csv\n",
      "Processed and saved: /home/proj/finTF/store_data/process/OHLCV_info/calculate_total_year/코스피 200 정보기술.csv\n",
      "Processed and saved: /home/proj/finTF/store_data/process/OHLCV_info/calculate_total_year/코스피 200 TOP 10.csv\n",
      "Processed and saved: /home/proj/finTF/store_data/process/OHLCV_info/calculate_total_year/비금속광물.csv\n",
      "Processed and saved: /home/proj/finTF/store_data/process/OHLCV_info/calculate_total_year/의료정밀.csv\n"
     ]
    }
   ],
   "source": [
    "import os\n",
    "import pandas as pd\n",
    "import pandas_ta as ta\n",
    "\n",
    "# 경로 설정\n",
    "raw_data_path = '/home/proj/finTF/store_data/process/OHLCV_info/raw_info_total_year'\n",
    "processed_data_path = '/home/proj/finTF/store_data/process/OHLCV_info/calculate_total_year'\n",
    "\n",
    "# MA, RSI, 볼린저 밴드 계산 함수\n",
    "def calculate_indicators(df):\n",
    "    # MA (이동평균)\n",
    "    df['MA_20'] = ta.sma(df['종가'], length=20)  # 20일 이동평균\n",
    "\n",
    "    # RSI (상대 강도 지수)\n",
    "    df['RSI_14'] = ta.rsi(df['종가'], length=14)  # 14일 RSI\n",
    "\n",
    "    # 볼린저 밴드\n",
    "    bbands = ta.bbands(df['종가'], length=20)\n",
    "    df = pd.concat([df, bbands], axis=1)  # 볼린저 밴드 컬럼 추가 (BBL: 하단, BBM: 중간, BBU: 상단)\n",
    "\n",
    "    return df\n",
    "\n",
    "# 폴더 순회 및 처리 함수\n",
    "def process_files():\n",
    "    # 각 연도 폴더 내 CSV 파일 처리\n",
    "    for filename in os.listdir(raw_data_path):\n",
    "        if filename.endswith('.csv'):\n",
    "            file_path = os.path.join(raw_data_path, filename)\n",
    "            df = pd.read_csv(file_path)\n",
    "\n",
    "            # 필요한 지표 계산\n",
    "            df_with_indicators = calculate_indicators(df)\n",
    "\n",
    "            # 처리된 파일 저장 경로\n",
    "            processed_file_path = os.path.join(processed_data_path, filename)\n",
    "\n",
    "            # 처리된 데이터 저장\n",
    "            df_with_indicators.to_csv(processed_file_path, index=False)\n",
    "            print(f\"Processed and saved: {processed_file_path}\")\n",
    "\n",
    "# 실행\n",
    "process_files()\n"
   ]
  }
 ],
 "metadata": {
  "kernelspec": {
   "display_name": "myenv",
   "language": "python",
   "name": "python3"
  },
  "language_info": {
   "codemirror_mode": {
    "name": "ipython",
    "version": 3
   },
   "file_extension": ".py",
   "mimetype": "text/x-python",
   "name": "python",
   "nbconvert_exporter": "python",
   "pygments_lexer": "ipython3",
   "version": "3.10.12"
  }
 },
 "nbformat": 4,
 "nbformat_minor": 2
}
