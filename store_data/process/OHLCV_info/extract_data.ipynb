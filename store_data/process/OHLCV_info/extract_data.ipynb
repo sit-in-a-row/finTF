{
 "cells": [
  {
   "cell_type": "code",
   "execution_count": null,
   "metadata": {},
   "outputs": [],
   "source": [
    "# MA, RSI, 볼린저 밴드 기준으로 매수/매도 시점 뽑아내기"
   ]
  },
  {
   "cell_type": "code",
   "execution_count": 1,
   "metadata": {},
   "outputs": [
    {
     "name": "stdout",
     "output_type": "stream",
     "text": [
      "매수 시점:\n",
      "Empty DataFrame\n",
      "Columns: [날짜, 종가, MA_20, RSI_14, BBL_20_2.0]\n",
      "Index: []\n",
      "매도 시점:\n",
      "Empty DataFrame\n",
      "Columns: [날짜, 종가, MA_20, RSI_14, BBU_20_2.0]\n",
      "Index: []\n"
     ]
    }
   ],
   "source": [
    "import pandas as pd\n",
    "\n",
    "# CSV 파일 읽기\n",
    "df = pd.read_csv('/home/proj/finTF/store_data/process/OHLCV_info/calculate_total_year/건설업.csv')\n",
    "\n",
    "# 매수/매도 컬럼 추가\n",
    "df['매수신호'] = 0\n",
    "df['매도신호'] = 0\n",
    "\n",
    "# 매수 조건: 종가가 MA_20 위에 있고, RSI가 30 미만, 볼린저 밴드 하단 아래에 있을 때\n",
    "df.loc[(df['종가'] > df['MA_20']) & (df['RSI_14'] < 30) & (df['종가'] < df['BBL_20_2.0']), '매수신호'] = 1\n",
    "\n",
    "# 매도 조건: 종가가 MA_20 아래에 있고, RSI가 70 이상, 볼린저 밴드 상단 위에 있을 때\n",
    "df.loc[(df['종가'] < df['MA_20']) & (df['RSI_14'] >= 70) & (df['종가'] > df['BBU_20_2.0']), '매도신호'] = 1\n",
    "\n",
    "# 결과 출력\n",
    "매수_시점 = df[df['매수신호'] == 1]\n",
    "매도_시점 = df[df['매도신호'] == 1]\n",
    "\n",
    "print(\"매수 시점:\")\n",
    "print(매수_시점[['날짜', '종가', 'MA_20', 'RSI_14', 'BBL_20_2.0']])\n",
    "\n",
    "print(\"매도 시점:\")\n",
    "print(매도_시점[['날짜', '종가', 'MA_20', 'RSI_14', 'BBU_20_2.0']])\n",
    "\n",
    "# 분석 결과 저장\n",
    "# df.to_csv('매수_매도_결과.csv', index=False)\n"
   ]
  },
  {
   "cell_type": "code",
   "execution_count": null,
   "metadata": {},
   "outputs": [],
   "source": [
    "# 보통 예상하는 기준으로는 도달 X, RSI 기준을 완화할 필요가 있음"
   ]
  },
  {
   "cell_type": "code",
   "execution_count": 12,
   "metadata": {},
   "outputs": [
    {
     "name": "stdout",
     "output_type": "stream",
     "text": [
      "매수 시점:\n",
      "            날짜      종가    MA_20     RSI_14  BBL_20_2.0\n",
      "57  2019-03-28  108.14  110.012  34.141806  106.901736\n",
      "매도 시점:\n",
      "             날짜     종가    MA_20     RSI_14  BBU_20_2.0\n",
      "397  2020-08-10  88.27  86.8985  60.474861   88.969261\n"
     ]
    }
   ],
   "source": [
    "import pandas as pd\n",
    "\n",
    "# CSV 파일 읽기\n",
    "df = pd.read_csv('/home/proj/finTF/store_data/process/OHLCV_info/calculate_total_year/건설업.csv')\n",
    "\n",
    "# 매수/매도 컬럼 추가\n",
    "df['매수신호'] = 0\n",
    "df['매도신호'] = 0\n",
    "\n",
    "# 조건 완화\n",
    "rsi_buy_threshold = 35  # RSI 과매도 조건 완화\n",
    "rsi_sell_threshold = 60  # RSI 과매수 조건 완화\n",
    "\n",
    "# 매수 조건: 종가가 MA_20보다 약간 높고, RSI가 35 이하, 종가가 볼린저 밴드 하단보다 살짝 낮거나 같을 때\n",
    "df.loc[(df['종가'] > df['MA_20'] * 0.98) & (df['RSI_14'] < rsi_buy_threshold) & (df['종가'] <= df['BBL_20_2.0'] * 1.02), '매수신호'] = 1\n",
    "\n",
    "# 매도 조건: 종가가 MA_20보다 약간 낮고, RSI가 65 이상, 종가가 볼린저 밴드 상단보다 살짝 높거나 같을 때\n",
    "df.loc[(df['종가'] < df['MA_20'] * 1.02) & (df['RSI_14'] > rsi_sell_threshold) & (df['종가'] >= df['BBU_20_2.0'] * 0.98), '매도신호'] = 1\n",
    "\n",
    "# 결과 출력\n",
    "매수_시점 = df[df['매수신호'] == 1]\n",
    "매도_시점 = df[df['매도신호'] == 1]\n",
    "\n",
    "print(\"매수 시점:\")\n",
    "print(매수_시점[['날짜', '종가', 'MA_20', 'RSI_14', 'BBL_20_2.0']])\n",
    "\n",
    "print(\"매도 시점:\")\n",
    "print(매도_시점[['날짜', '종가', 'MA_20', 'RSI_14', 'BBU_20_2.0']])\n",
    "\n",
    "# 분석 결과 저장\n",
    "# df.to_csv('매수_매도_결과_완화.csv', index=False)\n"
   ]
  },
  {
   "cell_type": "code",
   "execution_count": null,
   "metadata": {},
   "outputs": [],
   "source": [
    "# 매수 매도 기간을 더 뽑아내기 위해 RSI 기준 더 완화하기"
   ]
  },
  {
   "cell_type": "code",
   "execution_count": 10,
   "metadata": {},
   "outputs": [
    {
     "name": "stdout",
     "output_type": "stream",
     "text": [
      "매수 시점:\n",
      "            날짜      종가    MA_20     RSI_14  BBL_20_2.0\n",
      "57  2019-03-28  108.14  110.012  34.141806  106.901736\n",
      "매도 시점:\n",
      "              날짜      종가     MA_20     RSI_14  BBU_20_2.0\n",
      "32    2019-02-20  119.88  119.9435  56.852230  123.806423\n",
      "33    2019-02-21  119.05  120.1305  52.687640  123.393643\n",
      "34    2019-02-22  120.18  120.3885  57.276231  122.659819\n",
      "35    2019-02-25  118.98  120.4285  51.557685  122.567138\n",
      "36    2019-02-26  119.12  120.3580  52.157826  122.570298\n",
      "...          ...     ...       ...        ...         ...\n",
      "1228  2023-12-21   72.20   74.3495  41.843512   76.681739\n",
      "1229  2023-12-22   72.32   74.1885  42.747707   76.612540\n",
      "1230  2023-12-26   72.69   74.0260  45.558317   76.393677\n",
      "1231  2023-12-27   71.33   73.7820  38.145649   76.204285\n",
      "1232  2023-12-28   71.39   73.6270  38.620142   76.237641\n",
      "\n",
      "[645 rows x 5 columns]\n"
     ]
    }
   ],
   "source": [
    "import pandas as pd\n",
    "\n",
    "# CSV 파일 읽기\n",
    "df = pd.read_csv('/home/proj/finTF/store_data/process/OHLCV_info/calculate_total_year/건설업.csv')\n",
    "\n",
    "# 매수/매도 컬럼 추가\n",
    "df['매수신호'] = 0\n",
    "df['매도신호'] = 0\n",
    "\n",
    "# 조건 완화\n",
    "rsi_buy_threshold = 35  # RSI 과매도 조건 완화\n",
    "rsi_sell_threshold = 65  # RSI 과매수 조건 추가 완화\n",
    "\n",
    "# 매수 조건: 종가가 MA_20보다 약간 높고, RSI가 35 이하, 종가가 볼린저 밴드 하단보다 살짝 낮거나 같을 때\n",
    "df.loc[(df['종가'] > df['MA_20'] * 0.98) & (df['RSI_14'] < rsi_buy_threshold) & (df['종가'] <= df['BBL_20_2.0'] * 1.02), '매수신호'] = 1\n",
    "\n",
    "# 매도 조건: 종가가 MA_20보다 약간 낮고, RSI가 60 이상, 종가가 볼린저 밴드 상단보다 살짝 높거나 같을 때\n",
    "df.loc[(df['종가'] < df['MA_20'] * 1.02) & (df['RSI_14'] > rsi_sell_threshold) & (df['종가'] >= df['BBU_20_2.0'] * 0.98), '매도신호'] = 1\n",
    "\n",
    "# 추가 매도 조건: 종가가 MA_20보다 낮아지면 매도 신호 발생\n",
    "df.loc[df['종가'] < df['MA_20'], '매도신호'] = 1\n",
    "\n",
    "# 결과 출력\n",
    "매수_시점 = df[df['매수신호'] == 1]\n",
    "매도_시점 = df[df['매도신호'] == 1]\n",
    "\n",
    "print(\"매수 시점:\")\n",
    "print(매수_시점[['날짜', '종가', 'MA_20', 'RSI_14', 'BBL_20_2.0']])\n",
    "\n",
    "print(\"매도 시점:\")\n",
    "print(매도_시점[['날짜', '종가', 'MA_20', 'RSI_14', 'BBU_20_2.0']])\n",
    "\n",
    "# 분석 결과 저장\n",
    "# df.to_csv('매수_매도_결과_완화_2.csv', index=False)\n"
   ]
  }
 ],
 "metadata": {
  "kernelspec": {
   "display_name": "myenv",
   "language": "python",
   "name": "python3"
  },
  "language_info": {
   "codemirror_mode": {
    "name": "ipython",
    "version": 3
   },
   "file_extension": ".py",
   "mimetype": "text/x-python",
   "name": "python",
   "nbconvert_exporter": "python",
   "pygments_lexer": "ipython3",
   "version": "3.10.12"
  }
 },
 "nbformat": 4,
 "nbformat_minor": 2
}
