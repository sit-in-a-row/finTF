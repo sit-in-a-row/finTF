{
 "cells": [
  {
   "cell_type": "code",
   "execution_count": 1,
   "metadata": {},
   "outputs": [],
   "source": [
    "from raw import get_financial_info"
   ]
  },
  {
   "cell_type": "code",
   "execution_count": 4,
   "metadata": {},
   "outputs": [
    {
     "name": "stdout",
     "output_type": "stream",
     "text": [
      "dart 기준 기업 고유 번호 수집 성공\n",
      "재무제표 정보 api 요청 성공\n",
      "재무제표 정보 api 요청 성공\n",
      "재무제표 데이터 다운로드에 성공했습니다.\n",
      "재무제표 필터링 성공\n",
      "조회한 095570의 2024에 대한 재무제표의 개수 2\n",
      "2024.05_095570_재무제표 (2024.05).csv 파일이 이미 존재합니다. 저장을 건너뜁니다.\n",
      "2024.08_095570_재무제표 (2024.08).csv 파일이 이미 존재합니다. 저장을 건너뜁니다.\n",
      "/Users/yeonsuk/investment/finTF/get_data/raw/opendart/../../../store_data/raw/opendart/store_reports/095570/2024.03 폴더가 이미 존재합니다. 보고서 저장을 건너뜁니다.\n",
      "/Users/yeonsuk/investment/finTF/get_data/raw/opendart/../../../store_data/raw/opendart/store_reports/095570/2024.06 폴더가 이미 존재합니다. 보고서 저장을 건너뜁니다.\n",
      "/Users/yeonsuk/investment/finTF/get_data/raw/opendart/../../../store_data/raw/opendart/store_reports/095570/2024.09 폴더가 존재하지 않습니다. 해당 월의 보고서를 다운로드합니다.\n",
      "보고서 코드 다운로드 성공.\n",
      "텍스트 클렌징 성공\n",
      "보고서 텍스트 api 요청 성공\n",
      "반기보고서 (2024.06) | 반 기 보 고 서 추출 완료. 1/153\n",
      "텍스트 클렌징 성공\n",
      "보고서 텍스트 api 요청 성공\n",
      "반기보고서 (2024.06) | 【 대표이사 등의 확인 】 추출 완료. 2/153\n",
      "텍스트 클렌징 성공\n",
      "보고서 텍스트 api 요청 성공\n",
      "반기보고서 (2024.06) | I. 회사의 개요 추출 완료. 3/153\n",
      "텍스트 클렌징 성공\n",
      "보고서 텍스트 api 요청 성공\n",
      "반기보고서 (2024.06) | 1. 회사의 개요 추출 완료. 4/153\n",
      "텍스트 클렌징 성공\n",
      "보고서 텍스트 api 요청 성공\n",
      "반기보고서 (2024.06) | 2. 회사의 연혁 추출 완료. 5/153\n",
      "텍스트 클렌징 성공\n",
      "보고서 텍스트 api 요청 성공\n",
      "반기보고서 (2024.06) | 3. 자본금 변동사항 추출 완료. 6/153\n",
      "텍스트 클렌징 성공\n",
      "보고서 텍스트 api 요청 성공\n",
      "반기보고서 (2024.06) | 4. 주식의 총수 등 추출 완료. 7/153\n",
      "텍스트 클렌징 성공\n",
      "보고서 텍스트 api 요청 성공\n",
      "반기보고서 (2024.06) | 5. 정관에 관한 사항 추출 완료. 8/153\n",
      "텍스트 클렌징 성공\n",
      "보고서 텍스트 api 요청 성공\n",
      "반기보고서 (2024.06) | II. 사업의 내용 추출 완료. 9/153\n",
      "텍스트 클렌징 성공\n",
      "보고서 텍스트 api 요청 성공\n",
      "반기보고서 (2024.06) | 1. 사업의 개요 추출 완료. 10/153\n",
      "텍스트 클렌징 성공\n",
      "보고서 텍스트 api 요청 성공\n",
      "반기보고서 (2024.06) | 2. 주요 제품 및 서비스 추출 완료. 11/153\n",
      "텍스트 클렌징 성공\n",
      "보고서 텍스트 api 요청 성공\n",
      "반기보고서 (2024.06) | 3. 원재료 및 생산설비 추출 완료. 12/153\n",
      "텍스트 클렌징 성공\n",
      "보고서 텍스트 api 요청 성공\n",
      "반기보고서 (2024.06) | 4. 매출 및 수주상황 추출 완료. 13/153\n"
     ]
    },
    {
     "ename": "KeyboardInterrupt",
     "evalue": "",
     "output_type": "error",
     "traceback": [
      "\u001b[0;31m---------------------------------------------------------------------------\u001b[0m",
      "\u001b[0;31mKeyboardInterrupt\u001b[0m                         Traceback (most recent call last)",
      "\u001b[1;32m/Users/yeonsuk/investment/finTF/get_data/temp.ipynb 셀 2\u001b[0m line \u001b[0;36m8\n\u001b[1;32m      <a href='vscode-notebook-cell:/Users/yeonsuk/investment/finTF/get_data/temp.ipynb#W1sZmlsZQ%3D%3D?line=5'>6</a>\u001b[0m \u001b[39mfor\u001b[39;00m ticker \u001b[39min\u001b[39;00m ticker_list:\n\u001b[1;32m      <a href='vscode-notebook-cell:/Users/yeonsuk/investment/finTF/get_data/temp.ipynb#W1sZmlsZQ%3D%3D?line=6'>7</a>\u001b[0m     \u001b[39mtry\u001b[39;00m:\n\u001b[0;32m----> <a href='vscode-notebook-cell:/Users/yeonsuk/investment/finTF/get_data/temp.ipynb#W1sZmlsZQ%3D%3D?line=7'>8</a>\u001b[0m         get_financial_info(ticker, \u001b[39m'\u001b[39;49m\u001b[39m2024\u001b[39;49m\u001b[39m'\u001b[39;49m)\n\u001b[1;32m      <a href='vscode-notebook-cell:/Users/yeonsuk/investment/finTF/get_data/temp.ipynb#W1sZmlsZQ%3D%3D?line=8'>9</a>\u001b[0m     \u001b[39mexcept\u001b[39;00m \u001b[39mException\u001b[39;00m \u001b[39mas\u001b[39;00m e:\n\u001b[1;32m     <a href='vscode-notebook-cell:/Users/yeonsuk/investment/finTF/get_data/temp.ipynb#W1sZmlsZQ%3D%3D?line=9'>10</a>\u001b[0m         \u001b[39mprint\u001b[39m(\u001b[39mf\u001b[39m\u001b[39m'\u001b[39m\u001b[39m{\u001b[39;00me\u001b[39m}\u001b[39;00m\u001b[39m | \u001b[39m\u001b[39m{\u001b[39;00mticker\u001b[39m}\u001b[39;00m\u001b[39m에서 오류 발생\u001b[39m\u001b[39m'\u001b[39m)\n",
      "File \u001b[0;32m~/investment/finTF/get_data/raw/opendart/open_dart_main.py:9\u001b[0m, in \u001b[0;36mget_financial_info\u001b[0;34m(stock_code, target_business_year)\u001b[0m\n\u001b[1;32m      4\u001b[0m \u001b[39m\u001b[39m\u001b[39m'''\u001b[39;00m\n\u001b[1;32m      5\u001b[0m \u001b[39mOpendart 관련 기능의 최종 main 함수.\u001b[39;00m\n\u001b[1;32m      6\u001b[0m \u001b[39m재무제표 및 공시 보고서를 모두 가져와 저장\u001b[39;00m\n\u001b[1;32m      7\u001b[0m \u001b[39m'''\u001b[39;00m\n\u001b[1;32m      8\u001b[0m save_financial_statement(stock_code, target_business_year)\n\u001b[0;32m----> 9\u001b[0m save_sub_reports(stock_code, target_business_year)\n",
      "File \u001b[0;32m~/investment/finTF/get_data/raw/opendart/file_management.py:64\u001b[0m, in \u001b[0;36msave_sub_reports\u001b[0;34m(stock_code, target_business_year)\u001b[0m\n\u001b[1;32m     61\u001b[0m \u001b[39mprint\u001b[39m(\u001b[39mf\u001b[39m\u001b[39m'\u001b[39m\u001b[39m{\u001b[39;00mmonth_folder_path\u001b[39m}\u001b[39;00m\u001b[39m 폴더가 존재하지 않습니다. 해당 월의 보고서를 다운로드합니다.\u001b[39m\u001b[39m'\u001b[39m)\n\u001b[1;32m     63\u001b[0m \u001b[39m# get_sub_report를 호출하여 보고서 다운로드\u001b[39;00m\n\u001b[0;32m---> 64\u001b[0m sub_report_dict \u001b[39m=\u001b[39m get_sub_report(stock_code, target_business_year)\n\u001b[1;32m     65\u001b[0m sub_report_dict_keys_list \u001b[39m=\u001b[39m \u001b[39mlist\u001b[39m(sub_report_dict\u001b[39m.\u001b[39mkeys())\n\u001b[1;32m     67\u001b[0m \u001b[39mfor\u001b[39;00m report_title \u001b[39min\u001b[39;00m sub_report_dict_keys_list:\n",
      "File \u001b[0;32m~/investment/finTF/get_data/raw/opendart/open_dart_api.py:136\u001b[0m, in \u001b[0;36mget_sub_report\u001b[0;34m(stock_code, target_business_year)\u001b[0m\n\u001b[1;32m    134\u001b[0m sub_report_title \u001b[39m=\u001b[39m sub_report_df\u001b[39m.\u001b[39miloc[j][\u001b[39m'\u001b[39m\u001b[39mtitle\u001b[39m\u001b[39m'\u001b[39m]\n\u001b[1;32m    135\u001b[0m sub_report_url \u001b[39m=\u001b[39m sub_report_df\u001b[39m.\u001b[39miloc[j][\u001b[39m'\u001b[39m\u001b[39murl\u001b[39m\u001b[39m'\u001b[39m]\n\u001b[0;32m--> 136\u001b[0m sub_report_text \u001b[39m=\u001b[39m get_sub_report_text(sub_report_url)\n\u001b[1;32m    137\u001b[0m sub_report_dict[\u001b[39mf\u001b[39m\u001b[39m'\u001b[39m\u001b[39m{\u001b[39;00mreport_name_list[i]\u001b[39m}\u001b[39;00m\u001b[39m | \u001b[39m\u001b[39m{\u001b[39;00msub_report_title\u001b[39m}\u001b[39;00m\u001b[39m'\u001b[39m] \u001b[39m=\u001b[39m [sub_report_text]\n\u001b[1;32m    138\u001b[0m count \u001b[39m+\u001b[39m\u001b[39m=\u001b[39m \u001b[39m1\u001b[39m\n",
      "File \u001b[0;32m~/investment/finTF/get_data/raw/opendart/open_dart_api.py:104\u001b[0m, in \u001b[0;36mget_sub_report_text\u001b[0;34m(url)\u001b[0m\n\u001b[1;32m     98\u001b[0m \u001b[39m\u001b[39m\u001b[39m'''\u001b[39;00m\n\u001b[1;32m     99\u001b[0m \u001b[39m텍스트를 실제로 api에 요청하는 코드\u001b[39;00m\n\u001b[1;32m    100\u001b[0m \u001b[39m최초에 time.sleep(0.1)로 했더니 서버가 문 닫아버림..ㅠ\u001b[39;00m\n\u001b[1;32m    101\u001b[0m \u001b[39m일단 time.sleep(5)로 하니까 잘 돌아감 (2024.08.22)\u001b[39;00m\n\u001b[1;32m    102\u001b[0m \u001b[39m'''\u001b[39;00m\n\u001b[1;32m    103\u001b[0m \u001b[39mtry\u001b[39;00m:\n\u001b[0;32m--> 104\u001b[0m     time\u001b[39m.\u001b[39;49msleep(\u001b[39m1\u001b[39;49m)\n\u001b[1;32m    105\u001b[0m     response \u001b[39m=\u001b[39m requests\u001b[39m.\u001b[39mget(url)\n\u001b[1;32m    106\u001b[0m     cleaned_text \u001b[39m=\u001b[39m cleanse_text(response)\n",
      "\u001b[0;31mKeyboardInterrupt\u001b[0m: "
     ]
    }
   ],
   "source": [
    "import pandas as pd\n",
    "\n",
    "df = pd.read_csv('ticker.csv', index_col=0)\n",
    "ticker_list = list(df['corp_ticker'])\n",
    "\n",
    "for ticker in ticker_list:\n",
    "    try:\n",
    "        get_financial_info(ticker, '2024')\n",
    "    except Exception as e:\n",
    "        print(f'{e} | {ticker}에서 오류 발생')"
   ]
  },
  {
   "cell_type": "code",
   "execution_count": null,
   "metadata": {},
   "outputs": [],
   "source": []
  },
  {
   "cell_type": "code",
   "execution_count": null,
   "metadata": {},
   "outputs": [],
   "source": []
  },
  {
   "cell_type": "code",
   "execution_count": null,
   "metadata": {},
   "outputs": [],
   "source": []
  }
 ],
 "metadata": {
  "kernelspec": {
   "display_name": "finTF",
   "language": "python",
   "name": "python3"
  },
  "language_info": {
   "codemirror_mode": {
    "name": "ipython",
    "version": 3
   },
   "file_extension": ".py",
   "mimetype": "text/x-python",
   "name": "python",
   "nbconvert_exporter": "python",
   "pygments_lexer": "ipython3",
   "version": "3.10.14"
  },
  "orig_nbformat": 4
 },
 "nbformat": 4,
 "nbformat_minor": 2
}
