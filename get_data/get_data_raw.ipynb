{
 "cells": [
  {
   "cell_type": "code",
   "execution_count": 1,
   "metadata": {},
   "outputs": [],
   "source": [
    "from raw import update_all_raw_info"
   ]
  },
  {
   "cell_type": "code",
   "execution_count": null,
   "metadata": {},
   "outputs": [],
   "source": [
    "# 전체 업데이트 코드\n",
    "start_date = '20190101'\n",
    "end_date = '20191231'\n",
    "\n",
    "update_all_raw_info(start_date, end_date)"
   ]
  },
  {
   "cell_type": "code",
   "execution_count": 4,
   "metadata": {},
   "outputs": [
    {
     "name": "stdout",
     "output_type": "stream",
     "text": [
      "target_date_list [['20210101', '20210331'], ['20210401', '20210630'], ['20210701', '20210930'], ['20211001', '20211231']]\n",
      "['20210101', '20210331']\n",
      "key: 2021_1Q\n",
      "['20210401', '20210630']\n",
      "key: 2021_2Q\n",
      "['20210701', '20210930']\n",
      "key: 2021_3Q\n",
      "['20211001', '20211231']\n",
      "key: 2021_4Q\n",
      "=== 분기별 종목리스트 생성 완료 ===\n",
      "=== 2021_1Q에 대한 정보 수집 시작 (1/4) ===\n",
      "=== 2021_1Q의 095570에 대해 정보 수집 시작 (1/916) ===\n",
      "=== 095570에 대한 20210101에서 20210331까지의 가격데이터 저장 중... ===\n",
      "=== 095570에 대한 20210101에서 20210331까지의 가격데이터 저장 완료 ===\n",
      "=== 095570에 대한 20210101에서 20210331까지의 뉴스 헤드라인 데이터 저장 중... ===\n",
      "1/6 페이지 크롤링 중...\n"
     ]
    },
    {
     "ename": "KeyboardInterrupt",
     "evalue": "",
     "output_type": "error",
     "traceback": [
      "\u001b[0;31m---------------------------------------------------------------------------\u001b[0m",
      "\u001b[0;31mKeyboardInterrupt\u001b[0m                         Traceback (most recent call last)",
      "\u001b[1;32m/Users/yeonsuk/investment/finTF/get_data/get_data_raw.ipynb 셀 4\u001b[0m line \u001b[0;36m5\n\u001b[1;32m      <a href='vscode-notebook-cell:/Users/yeonsuk/investment/finTF/get_data/get_data_raw.ipynb#W3sZmlsZQ%3D%3D?line=1'>2</a>\u001b[0m start_date \u001b[39m=\u001b[39m \u001b[39m'\u001b[39m\u001b[39m20210101\u001b[39m\u001b[39m'\u001b[39m\n\u001b[1;32m      <a href='vscode-notebook-cell:/Users/yeonsuk/investment/finTF/get_data/get_data_raw.ipynb#W3sZmlsZQ%3D%3D?line=2'>3</a>\u001b[0m end_date \u001b[39m=\u001b[39m \u001b[39m'\u001b[39m\u001b[39m20211231\u001b[39m\u001b[39m'\u001b[39m\n\u001b[0;32m----> <a href='vscode-notebook-cell:/Users/yeonsuk/investment/finTF/get_data/get_data_raw.ipynb#W3sZmlsZQ%3D%3D?line=4'>5</a>\u001b[0m update_all_raw_info(start_date, end_date)\n",
      "File \u001b[0;32m~/investment/finTF/get_data/raw/raw_main.py:74\u001b[0m, in \u001b[0;36mupdate_all_raw_info\u001b[0;34m(start_date, end_date)\u001b[0m\n\u001b[1;32m     71\u001b[0m \u001b[39mprint\u001b[39m(\u001b[39mf\u001b[39m\u001b[39m'\u001b[39m\u001b[39m=== \u001b[39m\u001b[39m{\u001b[39;00mstock_code\u001b[39m}\u001b[39;00m\u001b[39m에 대한 \u001b[39m\u001b[39m{\u001b[39;00mtarget_quarter_start_date\u001b[39m}\u001b[39;00m\u001b[39m에서 \u001b[39m\u001b[39m{\u001b[39;00mtarget_quarter_end_date\u001b[39m}\u001b[39;00m\u001b[39m까지의 가격데이터 저장 완료 ===\u001b[39m\u001b[39m'\u001b[39m)\n\u001b[1;32m     73\u001b[0m \u001b[39mprint\u001b[39m(\u001b[39mf\u001b[39m\u001b[39m'\u001b[39m\u001b[39m=== \u001b[39m\u001b[39m{\u001b[39;00mstock_code\u001b[39m}\u001b[39;00m\u001b[39m에 대한 \u001b[39m\u001b[39m{\u001b[39;00mtarget_quarter_start_date\u001b[39m}\u001b[39;00m\u001b[39m에서 \u001b[39m\u001b[39m{\u001b[39;00mtarget_quarter_end_date\u001b[39m}\u001b[39;00m\u001b[39m까지의 뉴스 헤드라인 데이터 저장 중... ===\u001b[39m\u001b[39m'\u001b[39m)\n\u001b[0;32m---> 74\u001b[0m crawl_sedaily_news(stock_code, target_quarter_start_date, target_quarter_end_date)\n\u001b[1;32m     75\u001b[0m \u001b[39mprint\u001b[39m(\u001b[39mf\u001b[39m\u001b[39m'\u001b[39m\u001b[39m=== \u001b[39m\u001b[39m{\u001b[39;00mstock_code\u001b[39m}\u001b[39;00m\u001b[39m에 대한 \u001b[39m\u001b[39m{\u001b[39;00mtarget_quarter_start_date\u001b[39m}\u001b[39;00m\u001b[39m에서 \u001b[39m\u001b[39m{\u001b[39;00mtarget_quarter_end_date\u001b[39m}\u001b[39;00m\u001b[39m까지의 뉴스 헤드라인 데이터 저장 완료 ===\u001b[39m\u001b[39m'\u001b[39m)\n\u001b[1;32m     77\u001b[0m \u001b[39m# 인자로 연도를 받고, 한번만 실행해도 모든 연도에 대한 값이 들어오기 때문에 1번만 실행 (플래그를 활용하여 False일 때만 진행)\u001b[39;00m\n",
      "File \u001b[0;32m~/investment/finTF/get_data/raw/crawling/crawl_corp_related_news.py:94\u001b[0m, in \u001b[0;36mcrawl_sedaily_news\u001b[0;34m(keyword, start_date, end_date)\u001b[0m\n\u001b[1;32m     91\u001b[0m news_row \u001b[39m=\u001b[39m news_list\u001b[39m.\u001b[39mfind_elements(By\u001b[39m.\u001b[39mTAG_NAME, \u001b[39m'\u001b[39m\u001b[39mli\u001b[39m\u001b[39m'\u001b[39m)\n\u001b[1;32m     93\u001b[0m \u001b[39mfor\u001b[39;00m news_element \u001b[39min\u001b[39;00m news_row:\n\u001b[0;32m---> 94\u001b[0m     time\u001b[39m.\u001b[39;49msleep(random\u001b[39m.\u001b[39;49muniform(\u001b[39m1\u001b[39;49m, \u001b[39m3\u001b[39;49m))\n\u001b[1;32m     95\u001b[0m     news_title \u001b[39m=\u001b[39m news_element\u001b[39m.\u001b[39mfind_element(By\u001b[39m.\u001b[39mCLASS_NAME, \u001b[39m'\u001b[39m\u001b[39marticle_tit\u001b[39m\u001b[39m'\u001b[39m)\u001b[39m.\u001b[39mtext\u001b[39m.\u001b[39mstrip()\n\u001b[1;32m     96\u001b[0m     news_category \u001b[39m=\u001b[39m news_element\u001b[39m.\u001b[39mfind_element(By\u001b[39m.\u001b[39mCLASS_NAME, \u001b[39m'\u001b[39m\u001b[39msec\u001b[39m\u001b[39m'\u001b[39m)\u001b[39m.\u001b[39mtext\u001b[39m.\u001b[39mstrip()\n",
      "\u001b[0;31mKeyboardInterrupt\u001b[0m: "
     ]
    }
   ],
   "source": [
    "# 전체 업데이트 코드\n",
    "start_date = '20210101'\n",
    "end_date = '20211231'\n",
    "\n",
    "update_all_raw_info(start_date, end_date)"
   ]
  },
  {
   "cell_type": "code",
   "execution_count": null,
   "metadata": {},
   "outputs": [],
   "source": [
    "# 전체 업데이트 코드\n",
    "start_date = '20220101'\n",
    "end_date = '20221231'\n",
    "\n",
    "update_all_raw_info(start_date, end_date)"
   ]
  },
  {
   "cell_type": "code",
   "execution_count": 2,
   "metadata": {},
   "outputs": [
    {
     "name": "stdout",
     "output_type": "stream",
     "text": [
      "target_date_list [['20230101', '20230331'], ['20230401', '20230630'], ['20230701', '20230930'], ['20231001', '20231231']]\n",
      "['20230101', '20230331']\n",
      "key: 2023_1Q\n",
      "['20230401', '20230630']\n",
      "key: 2023_2Q\n",
      "['20230701', '20230930']\n",
      "key: 2023_3Q\n",
      "['20231001', '20231231']\n",
      "key: 2023_4Q\n",
      "=== 분기별 종목리스트 생성 완료 ===\n",
      "=== 2023_1Q에 대한 정보 수집 시작 (1/4) ===\n",
      "=== 2023 산업군 지표 데이터 저장 중... ===\n"
     ]
    },
    {
     "ename": "KeyError",
     "evalue": "'시장'",
     "output_type": "error",
     "traceback": [
      "\u001b[0;31m---------------------------------------------------------------------------\u001b[0m",
      "\u001b[0;31mKeyError\u001b[0m                                  Traceback (most recent call last)",
      "\u001b[1;32m/Users/yeonsuk/investment/finTF/get_data/get_data_raw.ipynb 셀 5\u001b[0m line \u001b[0;36m5\n\u001b[1;32m      <a href='vscode-notebook-cell:/Users/yeonsuk/investment/finTF/get_data/get_data_raw.ipynb#W4sZmlsZQ%3D%3D?line=1'>2</a>\u001b[0m start_date \u001b[39m=\u001b[39m \u001b[39m'\u001b[39m\u001b[39m20230101\u001b[39m\u001b[39m'\u001b[39m\n\u001b[1;32m      <a href='vscode-notebook-cell:/Users/yeonsuk/investment/finTF/get_data/get_data_raw.ipynb#W4sZmlsZQ%3D%3D?line=2'>3</a>\u001b[0m end_date \u001b[39m=\u001b[39m \u001b[39m'\u001b[39m\u001b[39m20231231\u001b[39m\u001b[39m'\u001b[39m\n\u001b[0;32m----> <a href='vscode-notebook-cell:/Users/yeonsuk/investment/finTF/get_data/get_data_raw.ipynb#W4sZmlsZQ%3D%3D?line=4'>5</a>\u001b[0m update_all_raw_info(start_date, end_date)\n",
      "File \u001b[0;32m~/investment/finTF/get_data/raw/raw_main.py:101\u001b[0m, in \u001b[0;36mupdate_all_raw_info\u001b[0;34m(start_date, end_date)\u001b[0m\n\u001b[1;32m     99\u001b[0m \u001b[39mif\u001b[39;00m is_already_updated \u001b[39m==\u001b[39m \u001b[39mFalse\u001b[39;00m:\n\u001b[1;32m    100\u001b[0m     \u001b[39mprint\u001b[39m(\u001b[39mf\u001b[39m\u001b[39m'\u001b[39m\u001b[39m=== \u001b[39m\u001b[39m{\u001b[39;00mtarget_business_year\u001b[39m}\u001b[39;00m\u001b[39m 산업군 지표 데이터 저장 중... ===\u001b[39m\u001b[39m'\u001b[39m)\n\u001b[0;32m--> 101\u001b[0m     get_index_csvs(target_business_year)\n\u001b[1;32m    102\u001b[0m     \u001b[39mprint\u001b[39m(\u001b[39mf\u001b[39m\u001b[39m'\u001b[39m\u001b[39m=== \u001b[39m\u001b[39m{\u001b[39;00mtarget_business_year\u001b[39m}\u001b[39;00m\u001b[39m 산업군 지표 데이터 저장 완료 ===\u001b[39m\u001b[39m'\u001b[39m)\n\u001b[1;32m    104\u001b[0m     is_already_updated \u001b[39m=\u001b[39m \u001b[39mTrue\u001b[39;00m\n",
      "File \u001b[0;32m~/investment/finTF/get_data/raw/market_data/get_index_csvs.py:21\u001b[0m, in \u001b[0;36mget_index_csvs\u001b[0;34m(target_business_year)\u001b[0m\n\u001b[1;32m     19\u001b[0m \u001b[39m# 종목 코드를 key, 종목명을 value로 하는 dict 생성\u001b[39;00m\n\u001b[1;32m     20\u001b[0m index_ticker_dict \u001b[39m=\u001b[39m {}\n\u001b[0;32m---> 21\u001b[0m \u001b[39mfor\u001b[39;00m ticker \u001b[39min\u001b[39;00m stock\u001b[39m.\u001b[39;49mget_index_ticker_list():\n\u001b[1;32m     22\u001b[0m     index_ticker_dict[ticker] \u001b[39m=\u001b[39m stock\u001b[39m.\u001b[39mget_index_ticker_name(ticker)\n\u001b[1;32m     24\u001b[0m \u001b[39m# 종목 코드만 list로 담아두기\u001b[39;00m\n",
      "File \u001b[0;32m/opt/anaconda3/envs/finTF/lib/python3.10/site-packages/pykrx/stock/stock_api.py:33\u001b[0m, in \u001b[0;36mmarket_valid_check.<locals>._market_valid_check.<locals>.wrapper\u001b[0;34m(*args, **kwargs)\u001b[0m\n\u001b[1;32m     31\u001b[0m     \u001b[39mprint\u001b[39m(\u001b[39m\"\u001b[39m\u001b[39mmarket 옵션이 올바르지 않습니다.\u001b[39m\u001b[39m\"\u001b[39m)\n\u001b[1;32m     32\u001b[0m     \u001b[39mreturn\u001b[39;00m DataFrame()\n\u001b[0;32m---> 33\u001b[0m \u001b[39mreturn\u001b[39;00m func(\u001b[39m*\u001b[39;49margs, \u001b[39m*\u001b[39;49m\u001b[39m*\u001b[39;49mkwargs)\n",
      "File \u001b[0;32m/opt/anaconda3/envs/finTF/lib/python3.10/site-packages/pykrx/stock/stock_api.py:1231\u001b[0m, in \u001b[0;36mget_index_ticker_list\u001b[0;34m(date, market)\u001b[0m\n\u001b[1;32m   1227\u001b[0m     date \u001b[39m=\u001b[39m krx\u001b[39m.\u001b[39mdatetime2string(date)\n\u001b[1;32m   1229\u001b[0m date \u001b[39m=\u001b[39m date\u001b[39m.\u001b[39mreplace(\u001b[39m\"\u001b[39m\u001b[39m-\u001b[39m\u001b[39m\"\u001b[39m, \u001b[39m\"\u001b[39m\u001b[39m\"\u001b[39m)\n\u001b[0;32m-> 1231\u001b[0m \u001b[39mreturn\u001b[39;00m krx\u001b[39m.\u001b[39;49mIndexTicker()\u001b[39m.\u001b[39;49mget_ticker(market, date)\n",
      "File \u001b[0;32m/opt/anaconda3/envs/finTF/lib/python3.10/site-packages/pykrx/website/krx/market/ticker.py:111\u001b[0m, in \u001b[0;36mIndexTicker.get_ticker\u001b[0;34m(self, market, date)\u001b[0m\n\u001b[1;32m    110\u001b[0m \u001b[39mdef\u001b[39;00m \u001b[39mget_ticker\u001b[39m(\u001b[39mself\u001b[39m, market, date):\n\u001b[0;32m--> 111\u001b[0m     cond \u001b[39m=\u001b[39m (\u001b[39mself\u001b[39;49m\u001b[39m.\u001b[39;49mdf[\u001b[39m'\u001b[39;49m\u001b[39m시장\u001b[39;49m\u001b[39m'\u001b[39;49m] \u001b[39m==\u001b[39m market) \u001b[39m&\u001b[39m (\u001b[39mself\u001b[39m\u001b[39m.\u001b[39mdf[\u001b[39m'\u001b[39m\u001b[39m기준일\u001b[39m\u001b[39m'\u001b[39m] \u001b[39m<\u001b[39m\u001b[39m=\u001b[39m date)\n\u001b[1;32m    112\u001b[0m     \u001b[39mreturn\u001b[39;00m \u001b[39mself\u001b[39m\u001b[39m.\u001b[39mdf[cond]\u001b[39m.\u001b[39mindex\u001b[39m.\u001b[39mtolist()\n",
      "File \u001b[0;32m/opt/anaconda3/envs/finTF/lib/python3.10/site-packages/pandas/core/frame.py:4102\u001b[0m, in \u001b[0;36mDataFrame.__getitem__\u001b[0;34m(self, key)\u001b[0m\n\u001b[1;32m   4100\u001b[0m \u001b[39mif\u001b[39;00m \u001b[39mself\u001b[39m\u001b[39m.\u001b[39mcolumns\u001b[39m.\u001b[39mnlevels \u001b[39m>\u001b[39m \u001b[39m1\u001b[39m:\n\u001b[1;32m   4101\u001b[0m     \u001b[39mreturn\u001b[39;00m \u001b[39mself\u001b[39m\u001b[39m.\u001b[39m_getitem_multilevel(key)\n\u001b[0;32m-> 4102\u001b[0m indexer \u001b[39m=\u001b[39m \u001b[39mself\u001b[39;49m\u001b[39m.\u001b[39;49mcolumns\u001b[39m.\u001b[39;49mget_loc(key)\n\u001b[1;32m   4103\u001b[0m \u001b[39mif\u001b[39;00m is_integer(indexer):\n\u001b[1;32m   4104\u001b[0m     indexer \u001b[39m=\u001b[39m [indexer]\n",
      "File \u001b[0;32m/opt/anaconda3/envs/finTF/lib/python3.10/site-packages/pandas/core/indexes/range.py:417\u001b[0m, in \u001b[0;36mRangeIndex.get_loc\u001b[0;34m(self, key)\u001b[0m\n\u001b[1;32m    415\u001b[0m         \u001b[39mraise\u001b[39;00m \u001b[39mKeyError\u001b[39;00m(key) \u001b[39mfrom\u001b[39;00m \u001b[39merr\u001b[39;00m\n\u001b[1;32m    416\u001b[0m \u001b[39mif\u001b[39;00m \u001b[39misinstance\u001b[39m(key, Hashable):\n\u001b[0;32m--> 417\u001b[0m     \u001b[39mraise\u001b[39;00m \u001b[39mKeyError\u001b[39;00m(key)\n\u001b[1;32m    418\u001b[0m \u001b[39mself\u001b[39m\u001b[39m.\u001b[39m_check_indexing_error(key)\n\u001b[1;32m    419\u001b[0m \u001b[39mraise\u001b[39;00m \u001b[39mKeyError\u001b[39;00m(key)\n",
      "\u001b[0;31mKeyError\u001b[0m: '시장'"
     ]
    }
   ],
   "source": [
    "# 전체 업데이트 코드\n",
    "start_date = '20230101'\n",
    "end_date = '20231231'\n",
    "\n",
    "update_all_raw_info(start_date, end_date)"
   ]
  },
  {
   "cell_type": "code",
   "execution_count": null,
   "metadata": {},
   "outputs": [],
   "source": [
    "# 전체 업데이트 코드\n",
    "start_date = '20240101'\n",
    "end_date = '20241231'\n",
    "\n",
    "update_all_raw_info(start_date, end_date)"
   ]
  },
  {
   "cell_type": "code",
   "execution_count": null,
   "metadata": {},
   "outputs": [],
   "source": []
  },
  {
   "cell_type": "code",
   "execution_count": null,
   "metadata": {},
   "outputs": [],
   "source": []
  }
 ],
 "metadata": {
  "kernelspec": {
   "display_name": "finTF",
   "language": "python",
   "name": "python3"
  },
  "language_info": {
   "codemirror_mode": {
    "name": "ipython",
    "version": 3
   },
   "file_extension": ".py",
   "mimetype": "text/x-python",
   "name": "python",
   "nbconvert_exporter": "python",
   "pygments_lexer": "ipython3",
   "version": "3.10.14"
  },
  "orig_nbformat": 4
 },
 "nbformat": 4,
 "nbformat_minor": 2
}
