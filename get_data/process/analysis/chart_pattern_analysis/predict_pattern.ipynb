{
 "cells": [
  {
   "cell_type": "code",
   "execution_count": 10,
   "metadata": {},
   "outputs": [
    {
     "name": "stderr",
     "output_type": "stream",
     "text": [
      "WARNING:absl:Compiled the loaded model, but the compiled metrics have yet to be built. `model.compile_metrics` will be empty until you train or evaluate the model.\n"
     ]
    }
   ],
   "source": [
    "import numpy as np\n",
    "from sklearn.preprocessing import MinMaxScaler\n",
    "from pykrx import stock\n",
    "import mplfinance as mpf\n",
    "from tensorflow.keras.models import load_model\n",
    "import os\n",
    "import pandas as pd\n",
    "\n",
    "patterns = ['ascending_triangle', 'descending_triangle', 'ascending_wedge', 'descending_wedge', 'double_top', 'double_bottom']\n",
    "model_path = './save_model/chart_pattern_model.h5'\n",
    "\n",
    "# 모델 불러오기\n",
    "model = load_model(model_path)"
   ]
  },
  {
   "cell_type": "code",
   "execution_count": 11,
   "metadata": {},
   "outputs": [],
   "source": [
    "# 예측을 위한 함수\n",
    "def predict_pattern(model, ohlcv_data, window_size=70):\n",
    "    \"\"\"\n",
    "    외부에서 입력받은 OHLCV 데이터를 기반으로 6개의 차트 패턴에 대한 확률을 예측하는 함수\n",
    "    :param model: 학습된 CNN-LSTM 모델\n",
    "    :param ohlcv_data: 새로운 OHLCV 데이터 (numpy 배열 형태로)\n",
    "    :param window_size: 모델이 사용한 윈도우 크기 (슬라이딩 윈도우 크기)\n",
    "    :return: 각 패턴에 속할 확률\n",
    "    \"\"\"\n",
    "    # OHLCV 데이터를 정규화 (외부 데이터)\n",
    "    scaler = MinMaxScaler()\n",
    "    scaled_data = scaler.fit_transform(ohlcv_data)\n",
    "\n",
    "    # 입력 데이터를 슬라이딩 윈도우로 변환\n",
    "    if len(scaled_data) < window_size:\n",
    "        raise ValueError(f\"Input data length should be at least {window_size}\")\n",
    "\n",
    "    input_data = np.array([scaled_data[-window_size:]])  # 최신 데이터로 슬라이딩 윈도우 생성\n",
    "    \n",
    "    # 모델 예측 (확률 반환)\n",
    "    predictions = model.predict(input_data)\n",
    "\n",
    "    # 6개의 클래스에 대한 확률 출력\n",
    "    return predictions[0]  # 예측된 확률\n",
    "\n",
    "# DataFrame 분할 함수\n",
    "def split_df(df, split_window):\n",
    "    df_length = len(df)\n",
    "\n",
    "    if df_length < split_window:\n",
    "        print(f'{split_window} 기준으로 분할할 수 없습니다! 현재 길이: {df_length}')\n",
    "    \n",
    "    final_df_list = []\n",
    "\n",
    "    for i in range(len(df) - split_window):\n",
    "        df_start_point = i\n",
    "        df_end_point = i + split_window\n",
    "        splited_df = df.iloc[df_start_point:df_end_point]\n",
    "        final_df_list.append(splited_df)\n",
    "\n",
    "    return final_df_list    "
   ]
  },
  {
   "cell_type": "code",
   "execution_count": 20,
   "metadata": {},
   "outputs": [
    {
     "data": {
      "text/plain": [
       "'151'"
      ]
     },
     "execution_count": 20,
     "metadata": {},
     "output_type": "execute_result"
    }
   ],
   "source": [
    "ticker = '005930'\n",
    "start_date = '20190101'\n",
    "end_date = '20190601'\n",
    "\n",
    "parnet_path = '../../../../store_data/raw/market_data/price/'\n",
    "ticker_path = os.path.join(parnet_path, ticker)\n",
    "\n",
    "start_date = pd.to_datetime(start_date).date()\n",
    "end_date = pd.to_datetime(end_date).date()\n",
    "\n",
    "time_delta = int(str(end_date - start_date).split(' ')[0])\n",
    "\n",
    "if time_delta < 70:\n",
    "    print('최소 70일 이상의 기간을 선택해야 합니다.')\n",
    "elif time_delta <= 0:\n",
    "    print('시작일이 종료일보다 빨라야합니다.')\n",
    "\n"
   ]
  },
  {
   "cell_type": "code",
   "execution_count": null,
   "metadata": {},
   "outputs": [],
   "source": []
  },
  {
   "cell_type": "code",
   "execution_count": null,
   "metadata": {},
   "outputs": [],
   "source": []
  },
  {
   "cell_type": "code",
   "execution_count": null,
   "metadata": {},
   "outputs": [],
   "source": []
  },
  {
   "cell_type": "code",
   "execution_count": null,
   "metadata": {},
   "outputs": [],
   "source": []
  }
 ],
 "metadata": {
  "kernelspec": {
   "display_name": "finTF",
   "language": "python",
   "name": "python3"
  },
  "language_info": {
   "codemirror_mode": {
    "name": "ipython",
    "version": 3
   },
   "file_extension": ".py",
   "mimetype": "text/x-python",
   "name": "python",
   "nbconvert_exporter": "python",
   "pygments_lexer": "ipython3",
   "version": "3.10.14"
  },
  "orig_nbformat": 4
 },
 "nbformat": 4,
 "nbformat_minor": 2
}
