{
 "cells": [
  {
   "cell_type": "code",
   "execution_count": 6,
   "metadata": {},
   "outputs": [],
   "source": [
    "from selenium import webdriver\n",
    "from selenium.webdriver.common.by import By\n",
    "from selenium.webdriver.support.ui import WebDriverWait, Select\n",
    "from selenium.webdriver.support import expected_conditions as EC\n",
    "import time\n",
    "from init_driver import init_driver"
   ]
  },
  {
   "cell_type": "code",
   "execution_count": 11,
   "metadata": {},
   "outputs": [],
   "source": [
    "url = 'http://data.krx.co.kr/contents/MDC/MGZN/publication/MDCMGZN001.cmd?menuId=MDCMGZN004'\n",
    "start_date = '20190101'\n",
    "end_date = '20240701'\n",
    "\n",
    "driver = init_driver()\n",
    "\n",
    "driver.get(url)\n",
    "\n",
    "brief_data_form = WebDriverWait(driver, 10).until(\n",
    "    EC.presence_of_element_located((By.ID, 'MDCMGZN001'))\n",
    ")\n",
    "\n",
    "select_element = driver.find_element(By.TAG_NAME, \"select\")\n",
    "select = Select(select_element)\n",
    "select.select_by_value(\"period\")  # 기간순 정렬\n",
    "\n",
    "start_date_input = driver.find_element(By.ID, 'strtDd')\n",
    "end_date_input = driver.find_element(By.ID, 'endDd')\n",
    "\n",
    "# 시작일과 종료일 입력 요소 찾기\n",
    "start_date_input = driver.find_element(By.ID, 'strtDd')\n",
    "end_date_input = driver.find_element(By.ID, 'endDd')\n",
    "\n",
    "# 자바스크립트를 사용해 값을 설정 (직접 입력이 안 되는 경우 대비)\n",
    "driver.execute_script(f\"arguments[0].value = '{start_date}'\", start_date_input)\n",
    "driver.execute_script(f\"arguments[0].value = '{end_date}'\", end_date_input)\n",
    "\n",
    "time.sleep(10)\n",
    "\n",
    "jsSearchButton = driver.find_element(By.ID, 'jsSearchButton')\n",
    "jsSearchButton.click()\n",
    "\n",
    "# brief_data_form = WebDriverWait(driver, 10).until(\n",
    "#     EC.presence_of_element_located((By.ID, 'MDCMGZN001'))\n",
    "# )\n",
    "\n",
    "driver.quit()"
   ]
  },
  {
   "cell_type": "code",
   "execution_count": null,
   "metadata": {},
   "outputs": [],
   "source": []
  }
 ],
 "metadata": {
  "kernelspec": {
   "display_name": "finTF",
   "language": "python",
   "name": "python3"
  },
  "language_info": {
   "codemirror_mode": {
    "name": "ipython",
    "version": 3
   },
   "file_extension": ".py",
   "mimetype": "text/x-python",
   "name": "python",
   "nbconvert_exporter": "python",
   "pygments_lexer": "ipython3",
   "version": "3.10.14"
  },
  "orig_nbformat": 4
 },
 "nbformat": 4,
 "nbformat_minor": 2
}
